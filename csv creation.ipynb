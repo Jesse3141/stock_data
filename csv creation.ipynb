{
 "cells": [
  {
   "cell_type": "code",
   "execution_count": 1,
   "id": "8adcf53e-487b-4c91-b5ff-d1c4938fd282",
   "metadata": {},
   "outputs": [],
   "source": [
    "# 1. Import the necessary functions from edgartools\n",
    "from edgar import *\n",
    "import requests\n",
    "import pandas as pd\n",
    "from concurrent.futures import ThreadPoolExecutor, as_completed\n",
    "import time\n",
    "from tqdm.auto import tqdm\n",
    "from edgar import Company\n",
    "import multiprocessing as mp\n",
    "import swifter\n",
    "import time\n"
   ]
  },
  {
   "cell_type": "code",
   "execution_count": 2,
   "id": "5b3d6a8e-b54d-42a7-ba77-2c298f75aac6",
   "metadata": {},
   "outputs": [],
   "source": [
    "# 2. Tell the SEC who you are\n",
    "set_identity(\"yishaibz@gmail.com\")"
   ]
  },
  {
   "cell_type": "markdown",
   "id": "96a8169a-3aab-47d2-8aad-673b4ec11392",
   "metadata": {},
   "source": [
    "# base data"
   ]
  },
  {
   "cell_type": "code",
   "execution_count": 3,
   "id": "a87b7316-aa86-4e7c-bcba-862de2f02230",
   "metadata": {},
   "outputs": [
    {
     "data": {
      "text/html": [
       "<div>\n",
       "<style scoped>\n",
       "    .dataframe tbody tr th:only-of-type {\n",
       "        vertical-align: middle;\n",
       "    }\n",
       "\n",
       "    .dataframe tbody tr th {\n",
       "        vertical-align: top;\n",
       "    }\n",
       "\n",
       "    .dataframe thead th {\n",
       "        text-align: right;\n",
       "    }\n",
       "</style>\n",
       "<table border=\"1\" class=\"dataframe\">\n",
       "  <thead>\n",
       "    <tr style=\"text-align: right;\">\n",
       "      <th></th>\n",
       "      <th>SIC Code</th>\n",
       "      <th>Office</th>\n",
       "      <th>Industry Title</th>\n",
       "    </tr>\n",
       "  </thead>\n",
       "  <tbody>\n",
       "    <tr>\n",
       "      <th>0</th>\n",
       "      <td>100</td>\n",
       "      <td>Industrial Applications and Services</td>\n",
       "      <td>AGRICULTURAL PRODUCTION-CROPS</td>\n",
       "    </tr>\n",
       "    <tr>\n",
       "      <th>1</th>\n",
       "      <td>200</td>\n",
       "      <td>Industrial Applications and Services</td>\n",
       "      <td>AGRICULTURAL PROD-LIVESTOCK &amp; ANIMAL SPECIALTIES</td>\n",
       "    </tr>\n",
       "    <tr>\n",
       "      <th>2</th>\n",
       "      <td>700</td>\n",
       "      <td>Industrial Applications and Services</td>\n",
       "      <td>AGRICULTURAL SERVICES</td>\n",
       "    </tr>\n",
       "    <tr>\n",
       "      <th>3</th>\n",
       "      <td>800</td>\n",
       "      <td>Industrial Applications and Services</td>\n",
       "      <td>FORESTRY</td>\n",
       "    </tr>\n",
       "    <tr>\n",
       "      <th>4</th>\n",
       "      <td>900</td>\n",
       "      <td>Industrial Applications and Services</td>\n",
       "      <td>FISHING, HUNTING AND TRAPPING</td>\n",
       "    </tr>\n",
       "    <tr>\n",
       "      <th>...</th>\n",
       "      <td>...</td>\n",
       "      <td>...</td>\n",
       "      <td>...</td>\n",
       "    </tr>\n",
       "    <tr>\n",
       "      <th>439</th>\n",
       "      <td>8880</td>\n",
       "      <td>Office of International Corp Fin</td>\n",
       "      <td>AMERICAN DEPOSITARY RECEIPTS</td>\n",
       "    </tr>\n",
       "    <tr>\n",
       "      <th>440</th>\n",
       "      <td>8888</td>\n",
       "      <td>Office of International Corp Fin</td>\n",
       "      <td>FOREIGN GOVERNMENTS</td>\n",
       "    </tr>\n",
       "    <tr>\n",
       "      <th>441</th>\n",
       "      <td>8900</td>\n",
       "      <td>Office of Trade &amp; Services</td>\n",
       "      <td>SERVICES-SERVICES, NEC</td>\n",
       "    </tr>\n",
       "    <tr>\n",
       "      <th>442</th>\n",
       "      <td>9721</td>\n",
       "      <td>Office of International Corp Fin</td>\n",
       "      <td>INTERNATIONAL AFFAIRS</td>\n",
       "    </tr>\n",
       "    <tr>\n",
       "      <th>443</th>\n",
       "      <td>9995</td>\n",
       "      <td>Office of Real Estate &amp; Construction</td>\n",
       "      <td>NON-OPERATING ESTABLISHMENTS</td>\n",
       "    </tr>\n",
       "  </tbody>\n",
       "</table>\n",
       "<p>444 rows × 3 columns</p>\n",
       "</div>"
      ],
      "text/plain": [
       "     SIC Code                                Office  \\\n",
       "0         100  Industrial Applications and Services   \n",
       "1         200  Industrial Applications and Services   \n",
       "2         700  Industrial Applications and Services   \n",
       "3         800  Industrial Applications and Services   \n",
       "4         900  Industrial Applications and Services   \n",
       "..        ...                                   ...   \n",
       "439      8880      Office of International Corp Fin   \n",
       "440      8888      Office of International Corp Fin   \n",
       "441      8900            Office of Trade & Services   \n",
       "442      9721      Office of International Corp Fin   \n",
       "443      9995  Office of Real Estate & Construction   \n",
       "\n",
       "                                       Industry Title  \n",
       "0                       AGRICULTURAL PRODUCTION-CROPS  \n",
       "1    AGRICULTURAL PROD-LIVESTOCK & ANIMAL SPECIALTIES  \n",
       "2                               AGRICULTURAL SERVICES  \n",
       "3                                            FORESTRY  \n",
       "4                       FISHING, HUNTING AND TRAPPING  \n",
       "..                                                ...  \n",
       "439                      AMERICAN DEPOSITARY RECEIPTS  \n",
       "440                               FOREIGN GOVERNMENTS  \n",
       "441                            SERVICES-SERVICES, NEC  \n",
       "442                             INTERNATIONAL AFFAIRS  \n",
       "443                      NON-OPERATING ESTABLISHMENTS  \n",
       "\n",
       "[444 rows x 3 columns]"
      ]
     },
     "execution_count": 3,
     "metadata": {},
     "output_type": "execute_result"
    }
   ],
   "source": [
    "industries = pd.read_csv(r'./edgar api/sic_industry_code.csv')\n",
    "industries"
   ]
  },
  {
   "cell_type": "code",
   "execution_count": 4,
   "id": "79ae7c84-f36a-4019-86dc-19c21cce5e7f",
   "metadata": {},
   "outputs": [
    {
     "data": {
      "text/html": [
       "<div>\n",
       "<style scoped>\n",
       "    .dataframe tbody tr th:only-of-type {\n",
       "        vertical-align: middle;\n",
       "    }\n",
       "\n",
       "    .dataframe tbody tr th {\n",
       "        vertical-align: top;\n",
       "    }\n",
       "\n",
       "    .dataframe thead th {\n",
       "        text-align: right;\n",
       "    }\n",
       "</style>\n",
       "<table border=\"1\" class=\"dataframe\">\n",
       "  <thead>\n",
       "    <tr style=\"text-align: right;\">\n",
       "      <th></th>\n",
       "      <th>SIC Code</th>\n",
       "      <th>Office</th>\n",
       "      <th>Industry Title</th>\n",
       "    </tr>\n",
       "  </thead>\n",
       "  <tbody>\n",
       "    <tr>\n",
       "      <th>0</th>\n",
       "      <td>100</td>\n",
       "      <td>Industrial Applications and Services</td>\n",
       "      <td>AGRICULTURAL PRODUCTION-CROPS</td>\n",
       "    </tr>\n",
       "    <tr>\n",
       "      <th>1</th>\n",
       "      <td>200</td>\n",
       "      <td>Industrial Applications and Services</td>\n",
       "      <td>AGRICULTURAL PROD-LIVESTOCK &amp; ANIMAL SPECIALTIES</td>\n",
       "    </tr>\n",
       "    <tr>\n",
       "      <th>2</th>\n",
       "      <td>700</td>\n",
       "      <td>Industrial Applications and Services</td>\n",
       "      <td>AGRICULTURAL SERVICES</td>\n",
       "    </tr>\n",
       "    <tr>\n",
       "      <th>95</th>\n",
       "      <td>2870</td>\n",
       "      <td>Industrial Applications and Services</td>\n",
       "      <td>AGRICULTURAL CHEMICALS</td>\n",
       "    </tr>\n",
       "  </tbody>\n",
       "</table>\n",
       "</div>"
      ],
      "text/plain": [
       "    SIC Code                                Office  \\\n",
       "0        100  Industrial Applications and Services   \n",
       "1        200  Industrial Applications and Services   \n",
       "2        700  Industrial Applications and Services   \n",
       "95      2870  Industrial Applications and Services   \n",
       "\n",
       "                                      Industry Title  \n",
       "0                      AGRICULTURAL PRODUCTION-CROPS  \n",
       "1   AGRICULTURAL PROD-LIVESTOCK & ANIMAL SPECIALTIES  \n",
       "2                              AGRICULTURAL SERVICES  \n",
       "95                            AGRICULTURAL CHEMICALS  "
      ]
     },
     "execution_count": 4,
     "metadata": {},
     "output_type": "execute_result"
    }
   ],
   "source": [
    "industries[industries['Industry Title'].str.contains(\"agri\", case=False, na=False)]"
   ]
  },
  {
   "cell_type": "code",
   "execution_count": 5,
   "id": "1f2b9a00-80a1-4aa5-a5ef-64c727ce207a",
   "metadata": {},
   "outputs": [
    {
     "data": {
      "text/html": [
       "<div>\n",
       "<style scoped>\n",
       "    .dataframe tbody tr th:only-of-type {\n",
       "        vertical-align: middle;\n",
       "    }\n",
       "\n",
       "    .dataframe tbody tr th {\n",
       "        vertical-align: top;\n",
       "    }\n",
       "\n",
       "    .dataframe thead th {\n",
       "        text-align: right;\n",
       "    }\n",
       "</style>\n",
       "<table border=\"1\" class=\"dataframe\">\n",
       "  <thead>\n",
       "    <tr style=\"text-align: right;\">\n",
       "      <th></th>\n",
       "      <th>cik_str</th>\n",
       "      <th>ticker</th>\n",
       "      <th>title</th>\n",
       "    </tr>\n",
       "  </thead>\n",
       "  <tbody>\n",
       "    <tr>\n",
       "      <th>0</th>\n",
       "      <td>320193</td>\n",
       "      <td>AAPL</td>\n",
       "      <td>Apple Inc.</td>\n",
       "    </tr>\n",
       "    <tr>\n",
       "      <th>1</th>\n",
       "      <td>789019</td>\n",
       "      <td>MSFT</td>\n",
       "      <td>MICROSOFT CORP</td>\n",
       "    </tr>\n",
       "    <tr>\n",
       "      <th>2</th>\n",
       "      <td>1045810</td>\n",
       "      <td>NVDA</td>\n",
       "      <td>NVIDIA CORP</td>\n",
       "    </tr>\n",
       "    <tr>\n",
       "      <th>3</th>\n",
       "      <td>1018724</td>\n",
       "      <td>AMZN</td>\n",
       "      <td>AMAZON COM INC</td>\n",
       "    </tr>\n",
       "    <tr>\n",
       "      <th>4</th>\n",
       "      <td>1652044</td>\n",
       "      <td>GOOGL</td>\n",
       "      <td>Alphabet Inc.</td>\n",
       "    </tr>\n",
       "    <tr>\n",
       "      <th>...</th>\n",
       "      <td>...</td>\n",
       "      <td>...</td>\n",
       "      <td>...</td>\n",
       "    </tr>\n",
       "    <tr>\n",
       "      <th>9703</th>\n",
       "      <td>1884046</td>\n",
       "      <td>SPKLU</td>\n",
       "      <td>Spark I Acquisition Corp</td>\n",
       "    </tr>\n",
       "    <tr>\n",
       "      <th>9704</th>\n",
       "      <td>1884046</td>\n",
       "      <td>SPKLW</td>\n",
       "      <td>Spark I Acquisition Corp</td>\n",
       "    </tr>\n",
       "    <tr>\n",
       "      <th>9705</th>\n",
       "      <td>2019804</td>\n",
       "      <td>HONDW</td>\n",
       "      <td>HCM II Acquisition Corp.</td>\n",
       "    </tr>\n",
       "    <tr>\n",
       "      <th>9706</th>\n",
       "      <td>2019804</td>\n",
       "      <td>HONDU</td>\n",
       "      <td>HCM II Acquisition Corp.</td>\n",
       "    </tr>\n",
       "    <tr>\n",
       "      <th>9707</th>\n",
       "      <td>797468</td>\n",
       "      <td>OXY-WT</td>\n",
       "      <td>OCCIDENTAL PETROLEUM CORP /DE/</td>\n",
       "    </tr>\n",
       "  </tbody>\n",
       "</table>\n",
       "<p>9708 rows × 3 columns</p>\n",
       "</div>"
      ],
      "text/plain": [
       "      cik_str  ticker                           title\n",
       "0      320193    AAPL                      Apple Inc.\n",
       "1      789019    MSFT                  MICROSOFT CORP\n",
       "2     1045810    NVDA                     NVIDIA CORP\n",
       "3     1018724    AMZN                  AMAZON COM INC\n",
       "4     1652044   GOOGL                   Alphabet Inc.\n",
       "...       ...     ...                             ...\n",
       "9703  1884046   SPKLU        Spark I Acquisition Corp\n",
       "9704  1884046   SPKLW        Spark I Acquisition Corp\n",
       "9705  2019804   HONDW        HCM II Acquisition Corp.\n",
       "9706  2019804   HONDU        HCM II Acquisition Corp.\n",
       "9707   797468  OXY-WT  OCCIDENTAL PETROLEUM CORP /DE/\n",
       "\n",
       "[9708 rows x 3 columns]"
      ]
     },
     "execution_count": 5,
     "metadata": {},
     "output_type": "execute_result"
    }
   ],
   "source": [
    "\n",
    "# SEC endpoints and headers\n",
    "TICKER_URL = \"https://www.sec.gov/files/company_tickers.json\"\n",
    "HEADERS = {\"User-Agent\": \"Your Name (your.email@example.com)\"}\n",
    "\n",
    "# Step 1: Get the master list of companies\n",
    "response = requests.get(TICKER_URL, headers=HEADERS)\n",
    "companies = response.json()\n",
    "\n",
    "# Convert JSON to DataFrame\n",
    "df_tickers = pd.DataFrame.from_dict(companies, orient='index')\n",
    "df_tickers"
   ]
  },
  {
   "cell_type": "code",
   "execution_count": 6,
   "id": "8c83d65e-2af4-4847-b38e-c0e7ff92270f",
   "metadata": {},
   "outputs": [
    {
     "data": {
      "text/html": [
       "<div>\n",
       "<style scoped>\n",
       "    .dataframe tbody tr th:only-of-type {\n",
       "        vertical-align: middle;\n",
       "    }\n",
       "\n",
       "    .dataframe tbody tr th {\n",
       "        vertical-align: top;\n",
       "    }\n",
       "\n",
       "    .dataframe thead th {\n",
       "        text-align: right;\n",
       "    }\n",
       "</style>\n",
       "<table border=\"1\" class=\"dataframe\">\n",
       "  <thead>\n",
       "    <tr style=\"text-align: right;\">\n",
       "      <th></th>\n",
       "      <th>cik_str</th>\n",
       "      <th>ticker</th>\n",
       "      <th>title</th>\n",
       "    </tr>\n",
       "  </thead>\n",
       "  <tbody>\n",
       "    <tr>\n",
       "      <th>515</th>\n",
       "      <td>1725964</td>\n",
       "      <td>NTR</td>\n",
       "      <td>Nutrien Ltd.</td>\n",
       "    </tr>\n",
       "    <tr>\n",
       "      <th>4803</th>\n",
       "      <td>1676047</td>\n",
       "      <td>NTRB</td>\n",
       "      <td>NutriBand Inc.</td>\n",
       "    </tr>\n",
       "    <tr>\n",
       "      <th>6136</th>\n",
       "      <td>1160420</td>\n",
       "      <td>ADIA</td>\n",
       "      <td>Adia Nutrition, Inc.</td>\n",
       "    </tr>\n",
       "    <tr>\n",
       "      <th>8032</th>\n",
       "      <td>1676047</td>\n",
       "      <td>NTRBW</td>\n",
       "      <td>NutriBand Inc.</td>\n",
       "    </tr>\n",
       "  </tbody>\n",
       "</table>\n",
       "</div>"
      ],
      "text/plain": [
       "      cik_str ticker                 title\n",
       "515   1725964    NTR          Nutrien Ltd.\n",
       "4803  1676047   NTRB        NutriBand Inc.\n",
       "6136  1160420   ADIA  Adia Nutrition, Inc.\n",
       "8032  1676047  NTRBW        NutriBand Inc."
      ]
     },
     "execution_count": 6,
     "metadata": {},
     "output_type": "execute_result"
    }
   ],
   "source": [
    "df_tickers[df_tickers['title'].str.contains(\"nutri\", case=False, na=False)]"
   ]
  },
  {
   "cell_type": "code",
   "execution_count": 7,
   "id": "29454c1b-d54f-47bd-9e63-281f4b63c244",
   "metadata": {},
   "outputs": [],
   "source": [
    "#add industry"
   ]
  },
  {
   "cell_type": "code",
   "execution_count": 15,
   "id": "1796e444-6c10-4456-a56c-be8045b4b186",
   "metadata": {},
   "outputs": [
    {
     "name": "stdout",
     "output_type": "stream",
     "text": [
      "1741698986.458953\n",
      "1741698996.4626973\n"
     ]
    }
   ],
   "source": [
    "print(time.time())\n",
    "time.sleep(10)\n",
    "print(time.time())"
   ]
  },
  {
   "cell_type": "code",
   "execution_count": 20,
   "id": "0a604143-c8af-42e1-bbe1-cdb8ee86136a",
   "metadata": {},
   "outputs": [],
   "source": [
    "def get_sic(cik):\n",
    "    time.sleep(0.1)  # Ensures no more than 10 requests per second\n",
    "    return Company(cik).sic"
   ]
  },
  {
   "cell_type": "code",
   "execution_count": 22,
   "id": "cba8c08f-e3d7-495f-b772-69a71a8c58ca",
   "metadata": {},
   "outputs": [
    {
     "data": {
      "application/vnd.jupyter.widget-view+json": {
       "model_id": "c85c7691a1cf4d639cc4fc9ce3c21504",
       "version_major": 2,
       "version_minor": 0
      },
      "text/plain": [
       "  0%|          | 0/9708 [00:00<?, ?it/s]"
      ]
     },
     "metadata": {},
     "output_type": "display_data"
    },
    {
     "name": "stderr",
     "output_type": "stream",
     "text": [
      "\n",
      "KeyboardInterrupt\n",
      "\n"
     ]
    }
   ],
   "source": [
    "tqdm.pandas()\n",
    "df_tickers['industry'] = df_tickers['cik_str'].progress_apply(get_sic)"
   ]
  },
  {
   "cell_type": "code",
   "execution_count": 25,
   "id": "4649d34f-af06-4e5b-9155-75a6f555ce54",
   "metadata": {},
   "outputs": [
    {
     "name": "stderr",
     "output_type": "stream",
     "text": [
      "C:\\Users\\Jesse\\miniforge3\\lib\\site-packages\\distributed\\node.py:187: UserWarning: Port 8787 is already in use.\n",
      "Perhaps you already have a cluster running?\n",
      "Hosting the HTTP server on port 56718 instead\n",
      "  warnings.warn(\n",
      "C:\\Users\\Jesse\\miniforge3\\lib\\site-packages\\dask\\base.py:1105: UserWarning: Running on a single-machine scheduler when a distributed client is active might lead to unexpected results.\n",
      "  warnings.warn(\n"
     ]
    },
    {
     "data": {
      "application/vnd.jupyter.widget-view+json": {
       "model_id": "41c9bb8815c54f40bff9b71346b384c3",
       "version_major": 2,
       "version_minor": 0
      },
      "text/plain": [
       "Dask Apply:   0%|          | 0/17 [00:00<?, ?it/s]"
      ]
     },
     "metadata": {},
     "output_type": "display_data"
    },
    {
     "data": {
      "application/vnd.jupyter.widget-view+json": {
       "model_id": "0552deaf1b0945fb9eac500341878123",
       "version_major": 2,
       "version_minor": 0
      },
      "text/plain": [
       "Pandas Apply:   0%|          | 0/9708 [00:00<?, ?it/s]"
      ]
     },
     "metadata": {},
     "output_type": "display_data"
    }
   ],
   "source": [
    "from dask.distributed import Client, Lock\n",
    "import time\n",
    "\n",
    "# Limit Dask to 4 processes\n",
    "client = Client(processes=True, n_workers=4, threads_per_worker=1)\n",
    "\n",
    "# Create a distributed lock\n",
    "rate_lock = Lock(\"rate-limit-lock\")\n",
    "\n",
    "def get_sic(cik):\n",
    "    # Only one worker can execute this block at a time\n",
    "    with rate_lock:\n",
    "        time.sleep(1/9)  # Wait roughly 0.111 seconds to limit to 9 requests/second\n",
    "        return Company(cik).sic\n",
    "\n",
    "# Using swifter with progress_apply\n",
    "import swifter\n",
    "df_tickers['industry'] = df_tickers['cik_str'].swifter.apply(get_sic)"
   ]
  },
  {
   "cell_type": "code",
   "execution_count": 27,
   "id": "94ac000d-99bc-4a19-9c83-ba5706996936",
   "metadata": {},
   "outputs": [],
   "source": [
    "df_tickers.to_csv(r'./edgar api/companies_info.csv',index=False)"
   ]
  },
  {
   "cell_type": "code",
   "execution_count": 29,
   "id": "05d5e82f-4d00-4b31-820b-cbb236fd14aa",
   "metadata": {},
   "outputs": [
    {
     "data": {
      "text/html": [
       "<div>\n",
       "<style scoped>\n",
       "    .dataframe tbody tr th:only-of-type {\n",
       "        vertical-align: middle;\n",
       "    }\n",
       "\n",
       "    .dataframe tbody tr th {\n",
       "        vertical-align: top;\n",
       "    }\n",
       "\n",
       "    .dataframe thead th {\n",
       "        text-align: right;\n",
       "    }\n",
       "</style>\n",
       "<table border=\"1\" class=\"dataframe\">\n",
       "  <thead>\n",
       "    <tr style=\"text-align: right;\">\n",
       "      <th></th>\n",
       "      <th>cik_str</th>\n",
       "      <th>ticker</th>\n",
       "      <th>title</th>\n",
       "      <th>industry</th>\n",
       "    </tr>\n",
       "  </thead>\n",
       "  <tbody>\n",
       "    <tr>\n",
       "      <th>515</th>\n",
       "      <td>1725964</td>\n",
       "      <td>NTR</td>\n",
       "      <td>Nutrien Ltd.</td>\n",
       "      <td>2870</td>\n",
       "    </tr>\n",
       "    <tr>\n",
       "      <th>768</th>\n",
       "      <td>1324404</td>\n",
       "      <td>CF</td>\n",
       "      <td>CF Industries Holdings, Inc.</td>\n",
       "      <td>2870</td>\n",
       "    </tr>\n",
       "    <tr>\n",
       "      <th>1076</th>\n",
       "      <td>941221</td>\n",
       "      <td>ICL</td>\n",
       "      <td>ICL Group Ltd.</td>\n",
       "      <td>2870</td>\n",
       "    </tr>\n",
       "    <tr>\n",
       "      <th>1097</th>\n",
       "      <td>1285785</td>\n",
       "      <td>MOS</td>\n",
       "      <td>MOSAIC CO</td>\n",
       "      <td>2870</td>\n",
       "    </tr>\n",
       "    <tr>\n",
       "      <th>1654</th>\n",
       "      <td>825542</td>\n",
       "      <td>SMG</td>\n",
       "      <td>SCOTTS MIRACLE-GRO CO</td>\n",
       "      <td>2870</td>\n",
       "    </tr>\n",
       "    <tr>\n",
       "      <th>2754</th>\n",
       "      <td>1425292</td>\n",
       "      <td>UAN</td>\n",
       "      <td>CVR PARTNERS, LP</td>\n",
       "      <td>2870</td>\n",
       "    </tr>\n",
       "    <tr>\n",
       "      <th>3855</th>\n",
       "      <td>1769484</td>\n",
       "      <td>BIOX</td>\n",
       "      <td>Bioceres Crop Solutions Corp.</td>\n",
       "      <td>2870</td>\n",
       "    </tr>\n",
       "    <tr>\n",
       "      <th>4317</th>\n",
       "      <td>5981</td>\n",
       "      <td>AVD</td>\n",
       "      <td>AMERICAN VANGUARD CORP</td>\n",
       "      <td>2870</td>\n",
       "    </tr>\n",
       "    <tr>\n",
       "      <th>4948</th>\n",
       "      <td>1705843</td>\n",
       "      <td>CBUS</td>\n",
       "      <td>Cibus, Inc.</td>\n",
       "      <td>2870</td>\n",
       "    </tr>\n",
       "    <tr>\n",
       "      <th>5368</th>\n",
       "      <td>1794276</td>\n",
       "      <td>YCQH</td>\n",
       "      <td>YCQH Agricultural Technology Co. Ltd</td>\n",
       "      <td>2870</td>\n",
       "    </tr>\n",
       "    <tr>\n",
       "      <th>5624</th>\n",
       "      <td>1575858</td>\n",
       "      <td>PUBC</td>\n",
       "      <td>PureBase Corp</td>\n",
       "      <td>2870</td>\n",
       "    </tr>\n",
       "    <tr>\n",
       "      <th>5734</th>\n",
       "      <td>857949</td>\n",
       "      <td>ENFY</td>\n",
       "      <td>Enlightify Inc.</td>\n",
       "      <td>2870</td>\n",
       "    </tr>\n",
       "    <tr>\n",
       "      <th>6011</th>\n",
       "      <td>875729</td>\n",
       "      <td>BNET</td>\n",
       "      <td>BION ENVIRONMENTAL TECHNOLOGIES INC</td>\n",
       "      <td>2870</td>\n",
       "    </tr>\n",
       "    <tr>\n",
       "      <th>6030</th>\n",
       "      <td>1574565</td>\n",
       "      <td>EVGN</td>\n",
       "      <td>Evogene Ltd.</td>\n",
       "      <td>2870</td>\n",
       "    </tr>\n",
       "    <tr>\n",
       "      <th>6324</th>\n",
       "      <td>1789192</td>\n",
       "      <td>NITO</td>\n",
       "      <td>N2OFF, Inc.</td>\n",
       "      <td>2870</td>\n",
       "    </tr>\n",
       "    <tr>\n",
       "      <th>6517</th>\n",
       "      <td>1680378</td>\n",
       "      <td>SNES</td>\n",
       "      <td>SenesTech, Inc.</td>\n",
       "      <td>2870</td>\n",
       "    </tr>\n",
       "    <tr>\n",
       "      <th>6545</th>\n",
       "      <td>1410708</td>\n",
       "      <td>NUVI</td>\n",
       "      <td>Emo Capital Corp.</td>\n",
       "      <td>2870</td>\n",
       "    </tr>\n",
       "  </tbody>\n",
       "</table>\n",
       "</div>"
      ],
      "text/plain": [
       "      cik_str ticker                                 title industry\n",
       "515   1725964    NTR                          Nutrien Ltd.     2870\n",
       "768   1324404     CF          CF Industries Holdings, Inc.     2870\n",
       "1076   941221    ICL                        ICL Group Ltd.     2870\n",
       "1097  1285785    MOS                             MOSAIC CO     2870\n",
       "1654   825542    SMG                 SCOTTS MIRACLE-GRO CO     2870\n",
       "2754  1425292    UAN                      CVR PARTNERS, LP     2870\n",
       "3855  1769484   BIOX         Bioceres Crop Solutions Corp.     2870\n",
       "4317     5981    AVD                AMERICAN VANGUARD CORP     2870\n",
       "4948  1705843   CBUS                           Cibus, Inc.     2870\n",
       "5368  1794276   YCQH  YCQH Agricultural Technology Co. Ltd     2870\n",
       "5624  1575858   PUBC                         PureBase Corp     2870\n",
       "5734   857949   ENFY                       Enlightify Inc.     2870\n",
       "6011   875729   BNET   BION ENVIRONMENTAL TECHNOLOGIES INC     2870\n",
       "6030  1574565   EVGN                          Evogene Ltd.     2870\n",
       "6324  1789192   NITO                           N2OFF, Inc.     2870\n",
       "6517  1680378   SNES                       SenesTech, Inc.     2870\n",
       "6545  1410708   NUVI                     Emo Capital Corp.     2870"
      ]
     },
     "execution_count": 29,
     "metadata": {},
     "output_type": "execute_result"
    }
   ],
   "source": [
    "df_tickers[df_tickers['industry']=='2870']"
   ]
  },
  {
   "cell_type": "code",
   "execution_count": 30,
   "id": "98b1b8c5-ae9e-4481-9681-67298812e129",
   "metadata": {},
   "outputs": [
    {
     "data": {
      "text/html": [
       "<div>\n",
       "<style scoped>\n",
       "    .dataframe tbody tr th:only-of-type {\n",
       "        vertical-align: middle;\n",
       "    }\n",
       "\n",
       "    .dataframe tbody tr th {\n",
       "        vertical-align: top;\n",
       "    }\n",
       "\n",
       "    .dataframe thead th {\n",
       "        text-align: right;\n",
       "    }\n",
       "</style>\n",
       "<table border=\"1\" class=\"dataframe\">\n",
       "  <thead>\n",
       "    <tr style=\"text-align: right;\">\n",
       "      <th></th>\n",
       "      <th>cik_str</th>\n",
       "      <th>ticker</th>\n",
       "      <th>title</th>\n",
       "      <th>industry</th>\n",
       "    </tr>\n",
       "  </thead>\n",
       "  <tbody>\n",
       "    <tr>\n",
       "      <th>2754</th>\n",
       "      <td>1425292</td>\n",
       "      <td>UAN</td>\n",
       "      <td>CVR PARTNERS, LP</td>\n",
       "      <td>2870</td>\n",
       "    </tr>\n",
       "  </tbody>\n",
       "</table>\n",
       "</div>"
      ],
      "text/plain": [
       "      cik_str ticker             title industry\n",
       "2754  1425292    UAN  CVR PARTNERS, LP     2870"
      ]
     },
     "execution_count": 30,
     "metadata": {},
     "output_type": "execute_result"
    }
   ],
   "source": [
    "df_tickers[df_tickers['ticker']=='UAN']"
   ]
  },
  {
   "cell_type": "markdown",
   "id": "764f870a-92ac-4fa6-a894-3b89b973c25d",
   "metadata": {},
   "source": [
    "# analyse\n",
    "\n",
    "https://github.com/dgunning/edgartools/blob/main/docs/quick-guide.md"
   ]
  },
  {
   "cell_type": "code",
   "execution_count": 13,
   "id": "cfeb4352-1b90-420f-aab1-7303cb25a838",
   "metadata": {},
   "outputs": [],
   "source": [
    "# 3. Start using the library\n",
    "filings = get_filings()\n",
    "filings = filings.filter(date=\"2015-01-01:\")"
   ]
  },
  {
   "cell_type": "code",
   "execution_count": 14,
   "id": "804e9cca-7f10-46ce-8d33-78781484d65d",
   "metadata": {},
   "outputs": [
    {
     "data": {
      "text/html": [
       "<pre style=\"white-space:pre;overflow-x:auto;line-height:normal;font-family:Menlo,'DejaVu Sans Mono',consolas,'Courier New',monospace\"></pre>\n"
      ],
      "text/plain": []
     },
     "metadata": {},
     "output_type": "display_data"
    },
    {
     "data": {
      "text/plain": [
       "\u001b[1;38;5;245m╭─\u001b[0m\u001b[1;38;5;245m─────────────────────────────────────────────────\u001b[0m\u001b[1;38;5;245m SEC Filings \u001b[0m\u001b[1;38;5;245m─────────────────────────────────────────────────\u001b[0m\u001b[1;38;5;245m─╮\u001b[0m\n",
       "\u001b[1;38;5;245m│\u001b[0m                                                                                                                 \u001b[1;38;5;245m│\u001b[0m\n",
       "\u001b[1;38;5;245m│\u001b[0m   \u001b[1m \u001b[0m\u001b[1mForm   \u001b[0m\u001b[1m \u001b[0m \u001b[1m \u001b[0m\u001b[1m       CIK\u001b[0m\u001b[1m \u001b[0m \u001b[1m \u001b[0m\u001b[1mTicker\u001b[0m\u001b[1m \u001b[0m \u001b[1m \u001b[0m\u001b[1mCompany                               \u001b[0m\u001b[1m \u001b[0m \u001b[1m \u001b[0m\u001b[1mFiling Date\u001b[0m\u001b[1m \u001b[0m \u001b[1m \u001b[0m\u001b[1mAccession Number   \u001b[0m\u001b[1m \u001b[0m  \u001b[1;38;5;245m│\u001b[0m\n",
       "\u001b[1;38;5;245m│\u001b[0m  ─────────────────────────────────────────────────────────────────────────────────────────────────────────────  \u001b[1;38;5;245m│\u001b[0m\n",
       "\u001b[1;38;5;245m│\u001b[0m    6-K      \u001b[2m \u001b[0m\u001b[2m   1725964\u001b[0m\u001b[2m \u001b[0m \u001b[33m \u001b[0m\u001b[33mNTR   \u001b[0m\u001b[33m \u001b[0m \u001b[1;32m \u001b[0m\u001b[1;32mNutrien Ltd.                          \u001b[0m\u001b[1;32m \u001b[0m  2025-02-28   \u001b[2m \u001b[0m\u001b[2m0001193125-25-0414…\u001b[0m\u001b[2m \u001b[0m  \u001b[1;38;5;245m│\u001b[0m\n",
       "\u001b[1;38;5;245m│\u001b[0m   \u001b[1m \u001b[0m\u001b[1m6-K    \u001b[0m\u001b[1m \u001b[0m \u001b[1;2m \u001b[0m\u001b[1;2m   1725964\u001b[0m\u001b[1;2m \u001b[0m \u001b[1;33m \u001b[0m\u001b[1;33mNTR   \u001b[0m\u001b[1;33m \u001b[0m \u001b[1;32m \u001b[0m\u001b[1;32mNutrien Ltd.                          \u001b[0m\u001b[1;32m \u001b[0m \u001b[1m \u001b[0m\u001b[1m2025-02-28 \u001b[0m\u001b[1m \u001b[0m \u001b[1;2m \u001b[0m\u001b[1;2m0001193125-25-0415…\u001b[0m\u001b[1;2m \u001b[0m  \u001b[1;38;5;245m│\u001b[0m\n",
       "\u001b[1;38;5;245m│\u001b[0m    6-K      \u001b[2m \u001b[0m\u001b[2m   1725964\u001b[0m\u001b[2m \u001b[0m \u001b[33m \u001b[0m\u001b[33mNTR   \u001b[0m\u001b[33m \u001b[0m \u001b[1;32m \u001b[0m\u001b[1;32mNutrien Ltd.                          \u001b[0m\u001b[1;32m \u001b[0m  2025-02-28   \u001b[2m \u001b[0m\u001b[2m0001193125-25-0415…\u001b[0m\u001b[2m \u001b[0m  \u001b[1;38;5;245m│\u001b[0m\n",
       "\u001b[1;38;5;245m│\u001b[0m   \u001b[1m \u001b[0m\u001b[1m6-K    \u001b[0m\u001b[1m \u001b[0m \u001b[1;2m \u001b[0m\u001b[1;2m   1725964\u001b[0m\u001b[1;2m \u001b[0m \u001b[1;33m \u001b[0m\u001b[1;33mNTR   \u001b[0m\u001b[1;33m \u001b[0m \u001b[1;32m \u001b[0m\u001b[1;32mNutrien Ltd.                          \u001b[0m\u001b[1;32m \u001b[0m \u001b[1m \u001b[0m\u001b[1m2025-02-28 \u001b[0m\u001b[1m \u001b[0m \u001b[1;2m \u001b[0m\u001b[1;2m0001193125-25-0415…\u001b[0m\u001b[1;2m \u001b[0m  \u001b[1;38;5;245m│\u001b[0m\n",
       "\u001b[1;38;5;245m│\u001b[0m    6-K      \u001b[2m \u001b[0m\u001b[2m   1725964\u001b[0m\u001b[2m \u001b[0m \u001b[33m \u001b[0m\u001b[33mNTR   \u001b[0m\u001b[33m \u001b[0m \u001b[1;32m \u001b[0m\u001b[1;32mNutrien Ltd.                          \u001b[0m\u001b[1;32m \u001b[0m  2025-02-28   \u001b[2m \u001b[0m\u001b[2m0001193125-25-0417…\u001b[0m\u001b[2m \u001b[0m  \u001b[1;38;5;245m│\u001b[0m\n",
       "\u001b[1;38;5;245m│\u001b[0m   \u001b[1m \u001b[0m\u001b[1m40-F   \u001b[0m\u001b[1m \u001b[0m \u001b[1;2m \u001b[0m\u001b[1;2m   1725964\u001b[0m\u001b[1;2m \u001b[0m \u001b[1;33m \u001b[0m\u001b[1;33mNTR   \u001b[0m\u001b[1;33m \u001b[0m \u001b[1;32m \u001b[0m\u001b[1;32mNutrien Ltd.                          \u001b[0m\u001b[1;32m \u001b[0m \u001b[1m \u001b[0m\u001b[1m2025-02-28 \u001b[0m\u001b[1m \u001b[0m \u001b[1;2m \u001b[0m\u001b[1;2m0001193125-25-0415…\u001b[0m\u001b[1;2m \u001b[0m  \u001b[1;38;5;245m│\u001b[0m\n",
       "\u001b[1;38;5;245m│\u001b[0m    6-K      \u001b[2m \u001b[0m\u001b[2m   1725964\u001b[0m\u001b[2m \u001b[0m \u001b[33m \u001b[0m\u001b[33mNTR   \u001b[0m\u001b[33m \u001b[0m \u001b[1;32m \u001b[0m\u001b[1;32mNutrien Ltd.                          \u001b[0m\u001b[1;32m \u001b[0m  2025-02-26   \u001b[2m \u001b[0m\u001b[2m0001193125-25-0369…\u001b[0m\u001b[2m \u001b[0m  \u001b[1;38;5;245m│\u001b[0m\n",
       "\u001b[1;38;5;245m│\u001b[0m   \u001b[1m \u001b[0m\u001b[1m6-K    \u001b[0m\u001b[1m \u001b[0m \u001b[1;2m \u001b[0m\u001b[1;2m   1725964\u001b[0m\u001b[1;2m \u001b[0m \u001b[1;33m \u001b[0m\u001b[1;33mNTR   \u001b[0m\u001b[1;33m \u001b[0m \u001b[1;32m \u001b[0m\u001b[1;32mNutrien Ltd.                          \u001b[0m\u001b[1;32m \u001b[0m \u001b[1m \u001b[0m\u001b[1m2025-02-21 \u001b[0m\u001b[1m \u001b[0m \u001b[1;2m \u001b[0m\u001b[1;2m0001193125-25-0320…\u001b[0m\u001b[1;2m \u001b[0m  \u001b[1;38;5;245m│\u001b[0m\n",
       "\u001b[1;38;5;245m│\u001b[0m    6-K      \u001b[2m \u001b[0m\u001b[2m   1725964\u001b[0m\u001b[2m \u001b[0m \u001b[33m \u001b[0m\u001b[33mNTR   \u001b[0m\u001b[33m \u001b[0m \u001b[1;32m \u001b[0m\u001b[1;32mNutrien Ltd.                          \u001b[0m\u001b[1;32m \u001b[0m  2025-02-20   \u001b[2m \u001b[0m\u001b[2m0001193125-25-0297…\u001b[0m\u001b[2m \u001b[0m  \u001b[1;38;5;245m│\u001b[0m\n",
       "\u001b[1;38;5;245m│\u001b[0m   \u001b[1m \u001b[0m\u001b[1m6-K    \u001b[0m\u001b[1m \u001b[0m \u001b[1;2m \u001b[0m\u001b[1;2m   1725964\u001b[0m\u001b[1;2m \u001b[0m \u001b[1;33m \u001b[0m\u001b[1;33mNTR   \u001b[0m\u001b[1;33m \u001b[0m \u001b[1;32m \u001b[0m\u001b[1;32mNutrien Ltd.                          \u001b[0m\u001b[1;32m \u001b[0m \u001b[1m \u001b[0m\u001b[1m2025-02-20 \u001b[0m\u001b[1m \u001b[0m \u001b[1;2m \u001b[0m\u001b[1;2m0001193125-25-0297…\u001b[0m\u001b[1;2m \u001b[0m  \u001b[1;38;5;245m│\u001b[0m\n",
       "\u001b[1;38;5;245m│\u001b[0m                                                                                                                 \u001b[1;38;5;245m│\u001b[0m\n",
       "\u001b[1;38;5;245m╰─\u001b[0m\u001b[1;38;5;245m────────────────────────────────\u001b[0m\u001b[1;38;5;245m SEC Filings between 2025-02-20 and 2025-02-28 \u001b[0m\u001b[1;38;5;245m────────────────────────────────\u001b[0m\u001b[1;38;5;245m─╯\u001b[0m"
      ]
     },
     "execution_count": 14,
     "metadata": {},
     "output_type": "execute_result"
    }
   ],
   "source": [
    "#by cik\n",
    "filings.filter(cik=1725964)"
   ]
  },
  {
   "cell_type": "code",
   "execution_count": 10,
   "id": "7711623b-3314-4212-a34c-4e542f75f0f9",
   "metadata": {},
   "outputs": [
    {
     "data": {
      "text/html": [
       "<pre style=\"white-space:pre;overflow-x:auto;line-height:normal;font-family:Menlo,'DejaVu Sans Mono',consolas,'Courier New',monospace\"></pre>\n"
      ],
      "text/plain": []
     },
     "metadata": {},
     "output_type": "display_data"
    },
    {
     "data": {
      "text/plain": [
       "\u001b[1;31mSignature:\u001b[0m\n",
       "\u001b[0mfilings\u001b[0m\u001b[1;33m.\u001b[0m\u001b[0mfilter\u001b[0m\u001b[1;33m(\u001b[0m\u001b[1;33m\n",
       "\u001b[0m    \u001b[1;33m*\u001b[0m\u001b[1;33m,\u001b[0m\u001b[1;33m\n",
       "\u001b[0m    \u001b[0mform\u001b[0m\u001b[1;33m:\u001b[0m \u001b[0mUnion\u001b[0m\u001b[1;33m[\u001b[0m\u001b[0mstr\u001b[0m\u001b[1;33m,\u001b[0m \u001b[0mList\u001b[0m\u001b[1;33m[\u001b[0m\u001b[0mUnion\u001b[0m\u001b[1;33m[\u001b[0m\u001b[0mstr\u001b[0m\u001b[1;33m,\u001b[0m \u001b[0mint\u001b[0m\u001b[1;33m]\u001b[0m\u001b[1;33m]\u001b[0m\u001b[1;33m,\u001b[0m \u001b[0mNoneType\u001b[0m\u001b[1;33m]\u001b[0m \u001b[1;33m=\u001b[0m \u001b[1;32mNone\u001b[0m\u001b[1;33m,\u001b[0m\u001b[1;33m\n",
       "\u001b[0m    \u001b[0mamendments\u001b[0m\u001b[1;33m:\u001b[0m \u001b[0mbool\u001b[0m \u001b[1;33m=\u001b[0m \u001b[1;32mNone\u001b[0m\u001b[1;33m,\u001b[0m\u001b[1;33m\n",
       "\u001b[0m    \u001b[0mfiling_date\u001b[0m\u001b[1;33m:\u001b[0m \u001b[0mOptional\u001b[0m\u001b[1;33m[\u001b[0m\u001b[0mstr\u001b[0m\u001b[1;33m]\u001b[0m \u001b[1;33m=\u001b[0m \u001b[1;32mNone\u001b[0m\u001b[1;33m,\u001b[0m\u001b[1;33m\n",
       "\u001b[0m    \u001b[0mdate\u001b[0m\u001b[1;33m:\u001b[0m \u001b[0mOptional\u001b[0m\u001b[1;33m[\u001b[0m\u001b[0mstr\u001b[0m\u001b[1;33m]\u001b[0m \u001b[1;33m=\u001b[0m \u001b[1;32mNone\u001b[0m\u001b[1;33m,\u001b[0m\u001b[1;33m\n",
       "\u001b[0m    \u001b[0mcik\u001b[0m\u001b[1;33m:\u001b[0m \u001b[0mUnion\u001b[0m\u001b[1;33m[\u001b[0m\u001b[0mstr\u001b[0m\u001b[1;33m,\u001b[0m \u001b[0mint\u001b[0m\u001b[1;33m,\u001b[0m \u001b[0mList\u001b[0m\u001b[1;33m[\u001b[0m\u001b[0mUnion\u001b[0m\u001b[1;33m[\u001b[0m\u001b[0mstr\u001b[0m\u001b[1;33m,\u001b[0m \u001b[0mint\u001b[0m\u001b[1;33m]\u001b[0m\u001b[1;33m]\u001b[0m\u001b[1;33m]\u001b[0m \u001b[1;33m=\u001b[0m \u001b[1;32mNone\u001b[0m\u001b[1;33m,\u001b[0m\u001b[1;33m\n",
       "\u001b[0m    \u001b[0mexchange\u001b[0m\u001b[1;33m:\u001b[0m \u001b[0mUnion\u001b[0m\u001b[1;33m[\u001b[0m\u001b[0mstr\u001b[0m\u001b[1;33m,\u001b[0m \u001b[0mList\u001b[0m\u001b[1;33m[\u001b[0m\u001b[0mstr\u001b[0m\u001b[1;33m]\u001b[0m\u001b[1;33m,\u001b[0m \u001b[0medgar\u001b[0m\u001b[1;33m.\u001b[0m\u001b[0mreference\u001b[0m\u001b[1;33m.\u001b[0m\u001b[0mtickers\u001b[0m\u001b[1;33m.\u001b[0m\u001b[0mExchange\u001b[0m\u001b[1;33m,\u001b[0m \u001b[0mList\u001b[0m\u001b[1;33m[\u001b[0m\u001b[0medgar\u001b[0m\u001b[1;33m.\u001b[0m\u001b[0mreference\u001b[0m\u001b[1;33m.\u001b[0m\u001b[0mtickers\u001b[0m\u001b[1;33m.\u001b[0m\u001b[0mExchange\u001b[0m\u001b[1;33m]\u001b[0m\u001b[1;33m]\u001b[0m \u001b[1;33m=\u001b[0m \u001b[1;32mNone\u001b[0m\u001b[1;33m,\u001b[0m\u001b[1;33m\n",
       "\u001b[0m    \u001b[0mticker\u001b[0m\u001b[1;33m:\u001b[0m \u001b[0mUnion\u001b[0m\u001b[1;33m[\u001b[0m\u001b[0mstr\u001b[0m\u001b[1;33m,\u001b[0m \u001b[0mList\u001b[0m\u001b[1;33m[\u001b[0m\u001b[0mstr\u001b[0m\u001b[1;33m]\u001b[0m\u001b[1;33m]\u001b[0m \u001b[1;33m=\u001b[0m \u001b[1;32mNone\u001b[0m\u001b[1;33m,\u001b[0m\u001b[1;33m\n",
       "\u001b[0m    \u001b[0maccession_number\u001b[0m\u001b[1;33m:\u001b[0m \u001b[0mUnion\u001b[0m\u001b[1;33m[\u001b[0m\u001b[0mstr\u001b[0m\u001b[1;33m,\u001b[0m \u001b[0mList\u001b[0m\u001b[1;33m[\u001b[0m\u001b[0mstr\u001b[0m\u001b[1;33m]\u001b[0m\u001b[1;33m]\u001b[0m \u001b[1;33m=\u001b[0m \u001b[1;32mNone\u001b[0m\u001b[1;33m,\u001b[0m\u001b[1;33m\n",
       "\u001b[0m\u001b[1;33m)\u001b[0m \u001b[1;33m->\u001b[0m \u001b[0mOptional\u001b[0m\u001b[1;33m[\u001b[0m\u001b[0mForwardRef\u001b[0m\u001b[1;33m(\u001b[0m\u001b[1;34m'Filings'\u001b[0m\u001b[1;33m)\u001b[0m\u001b[1;33m]\u001b[0m\u001b[1;33m\u001b[0m\u001b[1;33m\u001b[0m\u001b[0m\n",
       "\u001b[1;31mDocstring:\u001b[0m\n",
       "Get some filings\n",
       "\n",
       ">>> filings = get_filings()\n",
       "\n",
       "Filter the filings\n",
       "\n",
       "On a date\n",
       ">>> filings.filter(date=\"2020-01-01\")\n",
       "\n",
       "Up to a date\n",
       ">>> filings.filter(date=\":2020-03-01\")\n",
       "\n",
       "From a date\n",
       ">>> filings.filter(date=\"2020-01-01:\")\n",
       "\n",
       "# Between dates\n",
       ">>> filings.filter(date=\"2020-01-01:2020-03-01\")\n",
       "\n",
       ":param form: The form or list of forms to filter by\n",
       ":param amendments: Whether to include amendments to the forms e.g. include \"10-K/A\" if filtering for \"10-K\"\n",
       ":param filing_date: The filing date\n",
       ":param date: An alias for the filing date\n",
       ":param cik: The CIK or list of CIKs to filter by\n",
       ":param exchange: The exchange or list of exchanges to filter by\n",
       ":param ticker: The ticker or list of tickers to filter by\n",
       ":param accession_number: The accession number or list of accession numbers to filter by\n",
       ":return: The filtered filings\n",
       "\u001b[1;31mFile:\u001b[0m      c:\\users\\jesse\\miniforge3\\lib\\site-packages\\edgar\\_filings.py\n",
       "\u001b[1;31mType:\u001b[0m      method"
      ]
     },
     "metadata": {},
     "output_type": "display_data"
    }
   ],
   "source": [
    "?filings.filter"
   ]
  },
  {
   "cell_type": "markdown",
   "id": "d036ab29-79f2-4b4d-a4ed-042369055041",
   "metadata": {},
   "source": [
    "# comapny"
   ]
  },
  {
   "cell_type": "code",
   "execution_count": 11,
   "id": "ebfc72e3-f71e-4d6d-85cf-27cdd04adf6c",
   "metadata": {},
   "outputs": [],
   "source": [
    "company = Company(\"NTR\")\n"
   ]
  },
  {
   "cell_type": "code",
   "execution_count": 12,
   "id": "601d7536-391d-435d-847f-edc3401e9fc4",
   "metadata": {},
   "outputs": [
    {
     "data": {
      "text/plain": [
       "'2870'"
      ]
     },
     "execution_count": 12,
     "metadata": {},
     "output_type": "execute_result"
    }
   ],
   "source": [
    "company.sic"
   ]
  },
  {
   "cell_type": "markdown",
   "id": "537069f1-3e94-4373-9a70-43713741ad53",
   "metadata": {},
   "source": [
    "The financials property returns a Financials instance. This instance has methods that return the balance sheet, income statement and cash flow statement.\n",
    "\n",
    "```\n",
    "from edgar import MultiFinancials\n",
    "\n",
    "filings = company.latest(\"10-K\", 5)\n",
    "financials = MultiFinancials(filings)\n",
    "```"
   ]
  },
  {
   "cell_type": "code",
   "execution_count": 7,
   "id": "8534f19e-1ef2-4c6a-ac7f-ae5427276a0b",
   "metadata": {},
   "outputs": [
    {
     "ename": "TypeError",
     "evalue": "'NoneType' object is not iterable",
     "output_type": "error",
     "traceback": [
      "\u001b[1;31m---------------------------------------------------------------------------\u001b[0m",
      "\u001b[1;31mTypeError\u001b[0m                                 Traceback (most recent call last)",
      "Cell \u001b[1;32mIn[7], line 2\u001b[0m\n\u001b[0;32m      1\u001b[0m ntr_filings \u001b[38;5;241m=\u001b[39m company\u001b[38;5;241m.\u001b[39mlatest(\u001b[38;5;124m\"\u001b[39m\u001b[38;5;124m10-K\u001b[39m\u001b[38;5;124m\"\u001b[39m, \u001b[38;5;241m5\u001b[39m)\n\u001b[1;32m----> 2\u001b[0m ntr_filings  \u001b[38;5;241m=\u001b[39m \u001b[43mMultiFinancials\u001b[49m\u001b[43m(\u001b[49m\u001b[43mntr_filings\u001b[49m\u001b[43m)\u001b[49m\n\u001b[0;32m      3\u001b[0m ntr_filings\n",
      "File \u001b[1;32m~\\miniforge3\\lib\\site-packages\\edgar\\financials.py:252\u001b[0m, in \u001b[0;36mMultiFinancials.__init__\u001b[1;34m(self, filings)\u001b[0m\n\u001b[0;32m    250\u001b[0m \u001b[38;5;28;01mdef\u001b[39;00m \u001b[38;5;21m__init__\u001b[39m(\u001b[38;5;28mself\u001b[39m, filings):\n\u001b[0;32m    251\u001b[0m     \u001b[38;5;28mself\u001b[39m\u001b[38;5;241m.\u001b[39mfinancials_list \u001b[38;5;241m=\u001b[39m []\n\u001b[1;32m--> 252\u001b[0m     \u001b[38;5;28;01mfor\u001b[39;00m filing \u001b[38;5;129;01min\u001b[39;00m filings:\n\u001b[0;32m    253\u001b[0m         \u001b[38;5;28;01mif\u001b[39;00m filing\u001b[38;5;241m.\u001b[39mform \u001b[38;5;129;01mnot\u001b[39;00m \u001b[38;5;129;01min\u001b[39;00m [\u001b[38;5;124m'\u001b[39m\u001b[38;5;124m10-K\u001b[39m\u001b[38;5;124m'\u001b[39m, \u001b[38;5;124m'\u001b[39m\u001b[38;5;124m10-Q\u001b[39m\u001b[38;5;124m'\u001b[39m, \u001b[38;5;124m'\u001b[39m\u001b[38;5;124m10-K/A\u001b[39m\u001b[38;5;124m'\u001b[39m, \u001b[38;5;124m'\u001b[39m\u001b[38;5;124m10-Q/A\u001b[39m\u001b[38;5;124m'\u001b[39m]:\n\u001b[0;32m    254\u001b[0m             \u001b[38;5;28;01mraise\u001b[39;00m \u001b[38;5;167;01mValueError\u001b[39;00m(\u001b[38;5;124m\"\u001b[39m\u001b[38;5;124mFiling must be a 10-K or 10-Q\u001b[39m\u001b[38;5;124m\"\u001b[39m)\n",
      "\u001b[1;31mTypeError\u001b[0m: 'NoneType' object is not iterable"
     ]
    }
   ],
   "source": [
    "ntr_filings = company.latest(\"10-K\", 5)\n",
    "ntr_filings  = MultiFinancials(ntr_filings)\n",
    "ntr_filings"
   ]
  },
  {
   "cell_type": "code",
   "execution_count": 19,
   "id": "2dcc2802-fac0-4fda-83b8-8cbfcf907ab8",
   "metadata": {},
   "outputs": [
    {
     "data": {
      "text/html": [
       "<div>\n",
       "<style scoped>\n",
       "    .dataframe tbody tr th:only-of-type {\n",
       "        vertical-align: middle;\n",
       "    }\n",
       "\n",
       "    .dataframe tbody tr th {\n",
       "        vertical-align: top;\n",
       "    }\n",
       "\n",
       "    .dataframe thead th {\n",
       "        text-align: right;\n",
       "    }\n",
       "</style>\n",
       "<table border=\"1\" class=\"dataframe\">\n",
       "  <thead>\n",
       "    <tr style=\"text-align: right;\">\n",
       "      <th></th>\n",
       "      <th>cik_str</th>\n",
       "      <th>ticker</th>\n",
       "      <th>title</th>\n",
       "    </tr>\n",
       "  </thead>\n",
       "  <tbody>\n",
       "    <tr>\n",
       "      <th>0</th>\n",
       "      <td>320193</td>\n",
       "      <td>AAPL</td>\n",
       "      <td>Apple Inc.</td>\n",
       "    </tr>\n",
       "    <tr>\n",
       "      <th>1</th>\n",
       "      <td>789019</td>\n",
       "      <td>MSFT</td>\n",
       "      <td>MICROSOFT CORP</td>\n",
       "    </tr>\n",
       "    <tr>\n",
       "      <th>2</th>\n",
       "      <td>1045810</td>\n",
       "      <td>NVDA</td>\n",
       "      <td>NVIDIA CORP</td>\n",
       "    </tr>\n",
       "    <tr>\n",
       "      <th>3</th>\n",
       "      <td>1018724</td>\n",
       "      <td>AMZN</td>\n",
       "      <td>AMAZON COM INC</td>\n",
       "    </tr>\n",
       "    <tr>\n",
       "      <th>4</th>\n",
       "      <td>1652044</td>\n",
       "      <td>GOOGL</td>\n",
       "      <td>Alphabet Inc.</td>\n",
       "    </tr>\n",
       "    <tr>\n",
       "      <th>...</th>\n",
       "      <td>...</td>\n",
       "      <td>...</td>\n",
       "      <td>...</td>\n",
       "    </tr>\n",
       "    <tr>\n",
       "      <th>9703</th>\n",
       "      <td>1884046</td>\n",
       "      <td>SPKLU</td>\n",
       "      <td>Spark I Acquisition Corp</td>\n",
       "    </tr>\n",
       "    <tr>\n",
       "      <th>9704</th>\n",
       "      <td>1884046</td>\n",
       "      <td>SPKLW</td>\n",
       "      <td>Spark I Acquisition Corp</td>\n",
       "    </tr>\n",
       "    <tr>\n",
       "      <th>9705</th>\n",
       "      <td>2019804</td>\n",
       "      <td>HONDW</td>\n",
       "      <td>HCM II Acquisition Corp.</td>\n",
       "    </tr>\n",
       "    <tr>\n",
       "      <th>9706</th>\n",
       "      <td>2019804</td>\n",
       "      <td>HONDU</td>\n",
       "      <td>HCM II Acquisition Corp.</td>\n",
       "    </tr>\n",
       "    <tr>\n",
       "      <th>9707</th>\n",
       "      <td>797468</td>\n",
       "      <td>OXY-WT</td>\n",
       "      <td>OCCIDENTAL PETROLEUM CORP /DE/</td>\n",
       "    </tr>\n",
       "  </tbody>\n",
       "</table>\n",
       "<p>9708 rows × 3 columns</p>\n",
       "</div>"
      ],
      "text/plain": [
       "      cik_str  ticker                           title\n",
       "0      320193    AAPL                      Apple Inc.\n",
       "1      789019    MSFT                  MICROSOFT CORP\n",
       "2     1045810    NVDA                     NVIDIA CORP\n",
       "3     1018724    AMZN                  AMAZON COM INC\n",
       "4     1652044   GOOGL                   Alphabet Inc.\n",
       "...       ...     ...                             ...\n",
       "9703  1884046   SPKLU        Spark I Acquisition Corp\n",
       "9704  1884046   SPKLW        Spark I Acquisition Corp\n",
       "9705  2019804   HONDW        HCM II Acquisition Corp.\n",
       "9706  2019804   HONDU        HCM II Acquisition Corp.\n",
       "9707   797468  OXY-WT  OCCIDENTAL PETROLEUM CORP /DE/\n",
       "\n",
       "[9708 rows x 3 columns]"
      ]
     },
     "execution_count": 19,
     "metadata": {},
     "output_type": "execute_result"
    }
   ],
   "source": [
    "df_tickers"
   ]
  },
  {
   "cell_type": "markdown",
   "id": "bf3d2e85-f625-434b-805a-85202e9f39de",
   "metadata": {},
   "source": [
    "## by industry"
   ]
  }
 ],
 "metadata": {
  "kernelspec": {
   "display_name": "Python (base)",
   "language": "python",
   "name": "python3"
  },
  "language_info": {
   "codemirror_mode": {
    "name": "ipython",
    "version": 3
   },
   "file_extension": ".py",
   "mimetype": "text/x-python",
   "name": "python",
   "nbconvert_exporter": "python",
   "pygments_lexer": "ipython3",
   "version": "3.10.14"
  }
 },
 "nbformat": 4,
 "nbformat_minor": 5
}
