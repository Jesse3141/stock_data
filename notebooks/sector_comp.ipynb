{
 "cells": [
  {
   "cell_type": "markdown",
   "metadata": {},
   "source": [
    "# Sector Analysis: Finding Mosaic Co's Industry Sector\n",
    "\n",
    "This notebook demonstrates how to:\n",
    "1. Find a company in the SEC database\n",
    "2. Extract industry sector information\n",
    "3. Identify companies in the same sector for comparative analysis"
   ]
  },
  {
   "cell_type": "code",
   "execution_count": 45,
   "metadata": {},
   "outputs": [],
   "source": [
    "import pandas as pd\n",
    "import numpy as np\n",
    "from pathlib import Path\n",
    "import polars as pl\n",
    "# Configure pandas display options\n",
    "pd.set_option('display.max_columns', None)\n",
    "pd.set_option('display.max_colwidth', None)\n",
    "pd.set_option('display.width', 1000)"
   ]
  },
  {
   "cell_type": "code",
   "execution_count": 2,
   "metadata": {},
   "outputs": [],
   "source": [
    "from secfsdstools.c_index.searching import IndexSearch\n"
   ]
  },
  {
   "cell_type": "code",
   "execution_count": 3,
   "metadata": {},
   "outputs": [
    {
     "name": "stderr",
     "output_type": "stream",
     "text": [
      "2025-10-04 16:04:16,282 [INFO] configmgt  reading configuration from C:\\Users\\Jesse\\.secfsdstools.cfg\n"
     ]
    }
   ],
   "source": [
    "from secfsdstools.c_index.searching import  IndexSearch\n",
    "\n",
    "from secfsdstools.c_index.companyindexreading import CompanyIndexReader\n",
    "\n",
    "from secfsdstools.e_collector.reportcollecting import SingleReportCollector\n",
    "\n",
    "from secfsdstools.e_filter.rawfiltering import ReportPeriodRawFilter, MainCoregRawFilter, USDOnlyRawFilter"
   ]
  },
  {
   "cell_type": "markdown",
   "metadata": {},
   "source": [
    "## Step 1: Find Mosaic Co in the SEC Database"
   ]
  },
  {
   "cell_type": "code",
   "execution_count": 19,
   "metadata": {},
   "outputs": [
    {
     "name": "stderr",
     "output_type": "stream",
     "text": [
      "2025-10-04 16:10:26,673 [INFO] configmgt  reading configuration from C:\\Users\\Jesse\\.secfsdstools.cfg\n"
     ]
    },
    {
     "name": "stdout",
     "output_type": "stream",
     "text": [
      "Companies with 'mosaic' in the name:\n",
      "                            name      cik\n",
      "0       MOSAIC ACQUISITION CORP.  1713952\n",
      "1                      MOSAIC CO  1285785\n",
      "2  MOSAIC IMMUNOENGINEERING INC.   836564\n",
      "\n",
      "Found 3 companies\n"
     ]
    }
   ],
   "source": [
    "# Initialize the search functionality\n",
    "search = IndexSearch.get_index_search()\n",
    "\n",
    "# Search for Mosaic companies\n",
    "mosaic_companies = search.find_company_by_name(\"mosaic\")\n",
    "print(\"Companies with 'mosaic' in the name:\")\n",
    "print(mosaic_companies)\n",
    "print(f\"\\nFound {len(mosaic_companies)} companies\")"
   ]
  },
  {
   "cell_type": "code",
   "execution_count": 20,
   "metadata": {},
   "outputs": [
    {
     "name": "stdout",
     "output_type": "stream",
     "text": [
      "Using: CIK = 1285785, Name = MOSAIC CO\n"
     ]
    }
   ],
   "source": [
    "# Get the CIK for The Mosaic Company\n",
    "mosaic_cik = 1285785\n",
    "print(f\"Using: CIK = {mosaic_cik}, Name = {mosaic_companies.iloc[1]['name']}\")"
   ]
  },
  {
   "cell_type": "markdown",
   "metadata": {},
   "source": [
    "## Step 2: Get Company Reports and Extract Business Description"
   ]
  },
  {
   "cell_type": "code",
   "execution_count": 21,
   "metadata": {},
   "outputs": [
    {
     "name": "stderr",
     "output_type": "stream",
     "text": [
      "2025-10-04 16:10:27,115 [INFO] configmgt  reading configuration from C:\\Users\\Jesse\\.secfsdstools.cfg\n"
     ]
    },
    {
     "name": "stdout",
     "output_type": "stream",
     "text": [
      "Recent 10-K reports:\n",
      "                   adsh       name  form     filed    period\n",
      "0  0001618034-25-000003  MOSAIC CO  10-K  20250303  20241231\n",
      "1  0001618034-24-000004  MOSAIC CO  10-K  20240222  20231231\n",
      "2  0001618034-23-000003  MOSAIC CO  10-K  20230223  20221231\n",
      "3  0001618034-22-000004  MOSAIC CO  10-K  20220223  20211231\n",
      "4  0001618034-21-000003  MOSAIC CO  10-K  20210222  20201231\n",
      "\n",
      "Most recent 10-K: 0001618034-25-000003 filed on 20250303\n"
     ]
    }
   ],
   "source": [
    "# Get company index reader\n",
    "reader = CompanyIndexReader.get_company_index_reader(cik='1285785')\n",
    "\n",
    "# Get recent 10-K reports (annual reports contain business description)\n",
    "reports_df = reader.get_all_company_reports_df(forms=[\"10-K\"])\n",
    "print(\"Recent 10-K reports:\")\n",
    "print(reports_df[['adsh', 'name', 'form', 'filed', 'period']].head())\n",
    "\n",
    "# Get the most recent 10-K\n",
    "latest_10k = reports_df.iloc[0]\n",
    "latest_adsh = latest_10k['adsh']\n",
    "print(f\"\\nMost recent 10-K: {latest_adsh} filed on {latest_10k['filed']}\")"
   ]
  },
  {
   "cell_type": "code",
   "execution_count": 22,
   "metadata": {},
   "outputs": [
    {
     "data": {
      "text/plain": [
       "'0001618034-25-000003'"
      ]
     },
     "execution_count": 22,
     "metadata": {},
     "output_type": "execute_result"
    }
   ],
   "source": [
    "latest_adsh"
   ]
  },
  {
   "cell_type": "markdown",
   "metadata": {},
   "source": [
    "## Step 3: Extract Industry Information from SEC Data\n",
    "\n",
    "The SEC filing contains Standard Industrial Classification (SIC) codes and business descriptions."
   ]
  },
  {
   "cell_type": "code",
   "execution_count": 39,
   "metadata": {},
   "outputs": [
    {
     "name": "stderr",
     "output_type": "stream",
     "text": [
      "2025-10-04 16:26:29,810 [INFO] configmgt  reading configuration from C:\\Users\\Jesse\\.secfsdstools.cfg\n"
     ]
    },
    {
     "name": "stdout",
     "output_type": "stream",
     "text": [
      "Company Submission Information:\n",
      "Company Name: MOSAIC CO\n",
      "Business Address: 101 EAST KENNEDY BLVD., TAMPA, FL\n",
      "SIC Code: 2870.0\n",
      "Fiscal Year End: 1231\n",
      "Form Type: 10-K\n",
      "Filing Date: 20250303\n"
     ]
    }
   ],
   "source": [
    "# Get the submission data which contains SIC codes and business info\n",
    "collector = SingleReportCollector.get_report_by_adsh(adsh=latest_adsh)\n",
    "report_data = collector.collect()\n",
    "\n",
    "# Extract submission information\n",
    "sub_info = report_data.sub_df.iloc[0]\n",
    "print(\"Company Submission Information:\")\n",
    "print(f\"Company Name: {sub_info['name']}\")\n",
    "print(f\"Business Address: {sub_info['bas1']}, {sub_info['cityba']}, {sub_info['stprba']}\")\n",
    "print(f\"SIC Code: {sub_info.get('sic', 'Not available')}\")\n",
    "print(f\"Fiscal Year End: {sub_info.get('fye', 'Not available')}\")\n",
    "print(f\"Form Type: {sub_info['form']}\")\n",
    "print(f\"Filing Date: {sub_info['filed']}\")"
   ]
  },
  {
   "cell_type": "markdown",
   "metadata": {},
   "source": [
    "## Step 4: Look Up SIC Code Industry Classification"
   ]
  },
  {
   "cell_type": "code",
   "execution_count": 24,
   "metadata": {},
   "outputs": [
    {
     "data": {
      "text/plain": [
       "WindowsPath('C:/Users/Jesse/Google Drive/management/finanaces/invest/modelling for investing/edgar_api/notebooks')"
      ]
     },
     "execution_count": 24,
     "metadata": {},
     "output_type": "execute_result"
    }
   ],
   "source": [
    "import os\n",
    "root = Path(os.getcwd()).resolve()\n",
    "root"
   ]
  },
  {
   "cell_type": "code",
   "execution_count": 25,
   "metadata": {},
   "outputs": [],
   "source": [
    "# SIC code mapping (major industry groups)\n",
    "SIC_mapping = pd.read_csv(root.parent / 'knowledge/sic_industry_code.csv')\n"
   ]
  },
  {
   "cell_type": "code",
   "execution_count": 26,
   "metadata": {},
   "outputs": [
    {
     "data": {
      "text/plain": [
       "dtype('int64')"
      ]
     },
     "execution_count": 26,
     "metadata": {},
     "output_type": "execute_result"
    }
   ],
   "source": [
    "SIC_mapping['SIC Code'].dtype"
   ]
  },
  {
   "cell_type": "code",
   "execution_count": 29,
   "metadata": {},
   "outputs": [
    {
     "data": {
      "application/vnd.microsoft.datawrangler.viewer.v0+json": {
       "columns": [
        {
         "name": "index",
         "rawType": "int64",
         "type": "integer"
        },
        {
         "name": "SIC Code",
         "rawType": "int64",
         "type": "integer"
        },
        {
         "name": "Office",
         "rawType": "object",
         "type": "string"
        },
        {
         "name": "Industry Title",
         "rawType": "object",
         "type": "string"
        }
       ],
       "ref": "ae5d3cd1-0dcf-4b61-9fff-8ddf39e05e22",
       "rows": [
        [
         "0",
         "100",
         "Industrial Applications and Services",
         "AGRICULTURAL PRODUCTION-CROPS"
        ],
        [
         "1",
         "200",
         "Industrial Applications and Services",
         "AGRICULTURAL PROD-LIVESTOCK & ANIMAL SPECIALTIES"
        ],
        [
         "2",
         "700",
         "Industrial Applications and Services",
         "AGRICULTURAL SERVICES"
        ],
        [
         "3",
         "800",
         "Industrial Applications and Services",
         "FORESTRY"
        ],
        [
         "4",
         "900",
         "Industrial Applications and Services",
         "FISHING, HUNTING AND TRAPPING"
        ],
        [
         "5",
         "1000",
         "Office of Energy & Transportation",
         "METAL MINING"
        ],
        [
         "6",
         "1040",
         "Office of Energy & Transportation",
         "GOLD AND SILVER ORES"
        ],
        [
         "7",
         "1090",
         "Office of Energy & Transportation",
         "MISCELLANEOUS METAL ORES"
        ],
        [
         "8",
         "1220",
         "Office of Energy & Transportation",
         "BITUMINOUS COAL & LIGNITE MINING"
        ],
        [
         "9",
         "1221",
         "Office of Energy & Transportation",
         "BITUMINOUS COAL & LIGNITE SURFACE MINING"
        ],
        [
         "10",
         "1311",
         "Office of Energy & Transportation",
         "CRUDE PETROLEUM & NATURAL GAS"
        ],
        [
         "11",
         "1381",
         "Office of Energy & Transportation",
         "DRILLING OIL & GAS WELLS"
        ],
        [
         "12",
         "1382",
         "Office of Energy & Transportation",
         "OIL & GAS FIELD EXPLORATION SERVICES"
        ],
        [
         "13",
         "1389",
         "Office of Energy & Transportation",
         "OIL & GAS FIELD SERVICES, NEC"
        ],
        [
         "14",
         "1400",
         "Office of Energy & Transportation",
         "MINING & QUARRYING OF NONMETALLIC MINERALS (NO FUELS)"
        ],
        [
         "15",
         "1520",
         "Office of Real Estate & Construction",
         "GENERAL BLDG CONTRACTORS - RESIDENTIAL BLDGS"
        ],
        [
         "16",
         "1531",
         "Office of Real Estate & Construction",
         "OPERATIVE BUILDERS"
        ],
        [
         "17",
         "1540",
         "Office of Real Estate & Construction",
         "GENERAL BLDG CONTRACTORS - NONRESIDENTIAL BLDGS"
        ],
        [
         "18",
         "1600",
         "Office of Real Estate & Construction",
         "HEAVY CONSTRUCTION OTHER THAN BLDG CONST - CONTRACTORS"
        ],
        [
         "19",
         "1623",
         "Office of Real Estate & Construction",
         "WATER, SEWER, PIPELINE, COMM & POWER LINE CONSTRUCTION"
        ],
        [
         "20",
         "1700",
         "Office of Real Estate & Construction",
         "CONSTRUCTION - SPECIAL TRADE CONTRACTORS"
        ],
        [
         "21",
         "1731",
         "Office of Real Estate & Construction",
         "ELECTRICAL WORK"
        ],
        [
         "22",
         "2000",
         "Office of Manufacturing",
         "FOOD AND KINDRED PRODUCTS"
        ],
        [
         "23",
         "2011",
         "Office of Manufacturing",
         "MEAT PACKING PLANTS"
        ],
        [
         "24",
         "2013",
         "Office of Manufacturing",
         "SAUSAGES & OTHER PREPARED MEAT PRODUCTS"
        ],
        [
         "25",
         "2015",
         "Office of Manufacturing",
         "POULTRY SLAUGHTERING AND PROCESSING"
        ],
        [
         "26",
         "2020",
         "Office of Manufacturing",
         "DAIRY PRODUCTS"
        ],
        [
         "27",
         "2024",
         "Office of Manufacturing",
         "ICE CREAM & FROZEN DESSERTS"
        ],
        [
         "28",
         "2030",
         "Office of Manufacturing",
         "CANNED, FROZEN & PRESERVD FRUIT, VEG & FOOD SPECIALTIES"
        ],
        [
         "29",
         "2033",
         "Office of Manufacturing",
         "CANNED, FRUITS, VEG, PRESERVES, JAMS & JELLIES"
        ],
        [
         "30",
         "2040",
         "Office of Manufacturing",
         "GRAIN MILL PRODUCTS"
        ],
        [
         "31",
         "2050",
         "Office of Manufacturing",
         "BAKERY PRODUCTS"
        ],
        [
         "32",
         "2052",
         "Office of Manufacturing",
         "COOKIES & CRACKERS"
        ],
        [
         "33",
         "2060",
         "Office of Manufacturing",
         "SUGAR & CONFECTIONERY PRODUCTS"
        ],
        [
         "34",
         "2070",
         "Office of Manufacturing",
         "FATS & OILS"
        ],
        [
         "35",
         "2080",
         "Office of Manufacturing",
         "BEVERAGES"
        ],
        [
         "36",
         "2082",
         "Office of Manufacturing",
         "MALT BEVERAGES"
        ],
        [
         "37",
         "2086",
         "Office of Manufacturing",
         "BOTTLED & CANNED SOFT DRINKS & CARBONATED WATERS"
        ],
        [
         "38",
         "2090",
         "Office of Manufacturing",
         "MISCELLANEOUS FOOD PREPARATIONS & KINDRED PRODUCTS"
        ],
        [
         "39",
         "2092",
         "Office of Manufacturing",
         "PREPARED FRESH OR FROZEN FISH & SEAFOODS"
        ],
        [
         "40",
         "2100",
         "Office of Manufacturing",
         "TOBACCO PRODUCTS"
        ],
        [
         "41",
         "2111",
         "Office of Manufacturing",
         "CIGARETTES"
        ],
        [
         "42",
         "2200",
         "Office of Manufacturing",
         "TEXTILE MILL PRODUCTS"
        ],
        [
         "43",
         "2211",
         "Office of Manufacturing",
         "BROADWOVEN FABRIC MILLS, COTTON"
        ],
        [
         "44",
         "2221",
         "Office of Manufacturing",
         "BROADWOVEN FABRIC MILLS, MAN MADE FIBER & SILK"
        ],
        [
         "45",
         "2250",
         "Office of Manufacturing",
         "KNITTING MILLS"
        ],
        [
         "46",
         "2253",
         "Office of Manufacturing",
         "KNIT OUTERWEAR MILLS"
        ],
        [
         "47",
         "2273",
         "Office of Manufacturing",
         "CARPETS & RUGS"
        ],
        [
         "48",
         "2300",
         "Office of Manufacturing",
         "APPAREL & OTHER FINISHD PRODS OF FABRICS & SIMILAR MATL"
        ],
        [
         "49",
         "2320",
         "Office of Manufacturing",
         "MEN'S & BOYS' FURNISHGS, WORK CLOTHG, & ALLIED GARMENTS"
        ]
       ],
       "shape": {
        "columns": 3,
        "rows": 444
       }
      },
      "text/html": [
       "<div>\n",
       "<style scoped>\n",
       "    .dataframe tbody tr th:only-of-type {\n",
       "        vertical-align: middle;\n",
       "    }\n",
       "\n",
       "    .dataframe tbody tr th {\n",
       "        vertical-align: top;\n",
       "    }\n",
       "\n",
       "    .dataframe thead th {\n",
       "        text-align: right;\n",
       "    }\n",
       "</style>\n",
       "<table border=\"1\" class=\"dataframe\">\n",
       "  <thead>\n",
       "    <tr style=\"text-align: right;\">\n",
       "      <th></th>\n",
       "      <th>SIC Code</th>\n",
       "      <th>Office</th>\n",
       "      <th>Industry Title</th>\n",
       "    </tr>\n",
       "  </thead>\n",
       "  <tbody>\n",
       "    <tr>\n",
       "      <th>0</th>\n",
       "      <td>100</td>\n",
       "      <td>Industrial Applications and Services</td>\n",
       "      <td>AGRICULTURAL PRODUCTION-CROPS</td>\n",
       "    </tr>\n",
       "    <tr>\n",
       "      <th>1</th>\n",
       "      <td>200</td>\n",
       "      <td>Industrial Applications and Services</td>\n",
       "      <td>AGRICULTURAL PROD-LIVESTOCK &amp; ANIMAL SPECIALTIES</td>\n",
       "    </tr>\n",
       "    <tr>\n",
       "      <th>2</th>\n",
       "      <td>700</td>\n",
       "      <td>Industrial Applications and Services</td>\n",
       "      <td>AGRICULTURAL SERVICES</td>\n",
       "    </tr>\n",
       "    <tr>\n",
       "      <th>3</th>\n",
       "      <td>800</td>\n",
       "      <td>Industrial Applications and Services</td>\n",
       "      <td>FORESTRY</td>\n",
       "    </tr>\n",
       "    <tr>\n",
       "      <th>4</th>\n",
       "      <td>900</td>\n",
       "      <td>Industrial Applications and Services</td>\n",
       "      <td>FISHING, HUNTING AND TRAPPING</td>\n",
       "    </tr>\n",
       "    <tr>\n",
       "      <th>...</th>\n",
       "      <td>...</td>\n",
       "      <td>...</td>\n",
       "      <td>...</td>\n",
       "    </tr>\n",
       "    <tr>\n",
       "      <th>439</th>\n",
       "      <td>8880</td>\n",
       "      <td>Office of International Corp Fin</td>\n",
       "      <td>AMERICAN DEPOSITARY RECEIPTS</td>\n",
       "    </tr>\n",
       "    <tr>\n",
       "      <th>440</th>\n",
       "      <td>8888</td>\n",
       "      <td>Office of International Corp Fin</td>\n",
       "      <td>FOREIGN GOVERNMENTS</td>\n",
       "    </tr>\n",
       "    <tr>\n",
       "      <th>441</th>\n",
       "      <td>8900</td>\n",
       "      <td>Office of Trade &amp; Services</td>\n",
       "      <td>SERVICES-SERVICES, NEC</td>\n",
       "    </tr>\n",
       "    <tr>\n",
       "      <th>442</th>\n",
       "      <td>9721</td>\n",
       "      <td>Office of International Corp Fin</td>\n",
       "      <td>INTERNATIONAL AFFAIRS</td>\n",
       "    </tr>\n",
       "    <tr>\n",
       "      <th>443</th>\n",
       "      <td>9995</td>\n",
       "      <td>Office of Real Estate &amp; Construction</td>\n",
       "      <td>NON-OPERATING ESTABLISHMENTS</td>\n",
       "    </tr>\n",
       "  </tbody>\n",
       "</table>\n",
       "<p>444 rows × 3 columns</p>\n",
       "</div>"
      ],
      "text/plain": [
       "     SIC Code                                Office                                    Industry Title\n",
       "0         100  Industrial Applications and Services                     AGRICULTURAL PRODUCTION-CROPS\n",
       "1         200  Industrial Applications and Services  AGRICULTURAL PROD-LIVESTOCK & ANIMAL SPECIALTIES\n",
       "2         700  Industrial Applications and Services                             AGRICULTURAL SERVICES\n",
       "3         800  Industrial Applications and Services                                          FORESTRY\n",
       "4         900  Industrial Applications and Services                     FISHING, HUNTING AND TRAPPING\n",
       "..        ...                                   ...                                               ...\n",
       "439      8880      Office of International Corp Fin                      AMERICAN DEPOSITARY RECEIPTS\n",
       "440      8888      Office of International Corp Fin                               FOREIGN GOVERNMENTS\n",
       "441      8900            Office of Trade & Services                            SERVICES-SERVICES, NEC\n",
       "442      9721      Office of International Corp Fin                             INTERNATIONAL AFFAIRS\n",
       "443      9995  Office of Real Estate & Construction                      NON-OPERATING ESTABLISHMENTS\n",
       "\n",
       "[444 rows x 3 columns]"
      ]
     },
     "execution_count": 29,
     "metadata": {},
     "output_type": "execute_result"
    }
   ],
   "source": [
    "SIC_mapping"
   ]
  },
  {
   "cell_type": "code",
   "execution_count": 30,
   "metadata": {},
   "outputs": [
    {
     "name": "stdout",
     "output_type": "stream",
     "text": [
      "\n",
      "Mosaic Company Industry Classification:\n",
      "SIC Code: 2870.0\n",
      "Industry: AGRICULTURAL CHEMICALS\n"
     ]
    }
   ],
   "source": [
    "\n",
    "def get_industry_from_sic(sic_code):\n",
    "    if pd.isna(sic_code):\n",
    "        return \"SIC code not available\"\n",
    "    \n",
    "    sic_code = int(sic_code)\n",
    "    \n",
    "    # Check detailed codes first\n",
    "    if sic_code in SIC_mapping['SIC Code'].values:\n",
    "        return SIC_mapping[SIC_mapping['SIC Code'] == sic_code]['Industry Title'].values[0]\n",
    "\n",
    "    # Check broad industry categories\n",
    "    for sic_range, industry in SIC_mapping.groupby('SIC Code')['Industry Title'].apply(list).items():\n",
    "        if sic_code in sic_range:\n",
    "            return industry\n",
    "    \n",
    "    return f\"Industry not found for SIC {sic_code}\"\n",
    "\n",
    "# Get industry classification\n",
    "sic_code = sub_info.get('sic')\n",
    "industry = get_industry_from_sic(sic_code)\n",
    "\n",
    "print(f\"\\nMosaic Company Industry Classification:\")\n",
    "print(f\"SIC Code: {sic_code}\")\n",
    "print(f\"Industry: {industry}\")"
   ]
  },
  {
   "cell_type": "markdown",
   "metadata": {},
   "source": [
    "## Step 5: Find Other Companies in the Same Sector\n",
    "\n",
    "To find companies in the same sector, we need to search through all companies and filter by SIC code."
   ]
  },
  {
   "cell_type": "markdown",
   "metadata": {},
   "source": [
    "### create table cik -> sic"
   ]
  },
  {
   "cell_type": "code",
   "execution_count": 31,
   "metadata": {},
   "outputs": [
    {
     "name": "stdout",
     "output_type": "stream",
     "text": [
      "Searching for companies in the same sector...\n",
      "This may take a moment as we search through all companies in the database.\n",
      "Total companies in database: 406989\n",
      "Looking for companies with SIC code 2870.0...\n"
     ]
    }
   ],
   "source": [
    "# Get all companies from the index to find sector peers\n",
    "# Note: This is a comprehensive search that may take some time\n",
    "print(\"Searching for companies in the same sector...\")\n",
    "print(\"This may take a moment as we search through all companies in the database.\")\n",
    "\n",
    "# Get database accessor to search all companies\n",
    "dbaccessor = search.dbaccessor\n",
    "all_companies_df = dbaccessor.read_all_indexreports_df()\n",
    "\n",
    "print(f\"Total companies in database: {len(all_companies_df)}\")\n",
    "print(f\"Looking for companies with SIC code {sic_code}...\")"
   ]
  },
  {
   "cell_type": "code",
   "execution_count": 33,
   "metadata": {},
   "outputs": [
    {
     "data": {
      "application/vnd.microsoft.datawrangler.viewer.v0+json": {
       "columns": [
        {
         "name": "index",
         "rawType": "int64",
         "type": "integer"
        },
        {
         "name": "adsh",
         "rawType": "object",
         "type": "string"
        },
        {
         "name": "cik",
         "rawType": "int64",
         "type": "integer"
        },
        {
         "name": "name",
         "rawType": "object",
         "type": "string"
        },
        {
         "name": "form",
         "rawType": "object",
         "type": "string"
        },
        {
         "name": "filed",
         "rawType": "int64",
         "type": "integer"
        },
        {
         "name": "period",
         "rawType": "int64",
         "type": "integer"
        },
        {
         "name": "fullPath",
         "rawType": "object",
         "type": "string"
        },
        {
         "name": "originFile",
         "rawType": "object",
         "type": "string"
        },
        {
         "name": "originFileType",
         "rawType": "object",
         "type": "string"
        },
        {
         "name": "url",
         "rawType": "object",
         "type": "string"
        }
       ],
       "ref": "9cf79261-6982-4105-b0ed-24700a5ed4e1",
       "rows": [
        [
         "0",
         "0000065984-10-000168",
         "65984",
         "ENTERGY CORP /DE/",
         "10-Q/A",
         "20100903",
         "20100630",
         "C:\\Users\\Jesse\\secfsdstools\\data\\parquet\\quarter\\2010q3.zip",
         "2010q3.zip",
         "quarter",
         "https://www.sec.gov/Archives/edgar/data/65984/000006598410000168/0000065984-10-000168-index.htm"
        ],
        [
         "1",
         "0001107694-10-000038",
         "1107694",
         "RACKSPACE HOSTING, INC.",
         "10-Q/A",
         "20100824",
         "20100630",
         "C:\\Users\\Jesse\\secfsdstools\\data\\parquet\\quarter\\2010q3.zip",
         "2010q3.zip",
         "quarter",
         "https://www.sec.gov/Archives/edgar/data/1107694/000110769410000038/0001107694-10-000038-index.htm"
        ],
        [
         "2",
         "0000031235-10-000089",
         "31235",
         "EASTMAN KODAK CO",
         "10-Q",
         "20100728",
         "20100630",
         "C:\\Users\\Jesse\\secfsdstools\\data\\parquet\\quarter\\2010q3.zip",
         "2010q3.zip",
         "quarter",
         "https://www.sec.gov/Archives/edgar/data/31235/000003123510000089/0000031235-10-000089-index.htm"
        ],
        [
         "3",
         "0001140361-10-032573",
         "36047",
         "CORELOGIC, INC.",
         "10-Q/A",
         "20100810",
         "20100630",
         "C:\\Users\\Jesse\\secfsdstools\\data\\parquet\\quarter\\2010q3.zip",
         "2010q3.zip",
         "quarter",
         "https://www.sec.gov/Archives/edgar/data/36047/000114036110032573/0001140361-10-032573-index.htm"
        ],
        [
         "4",
         "0001047469-10-007096",
         "1063761",
         "SIMON PROPERTY GROUP INC /DE/",
         "10-Q",
         "20100806",
         "20100630",
         "C:\\Users\\Jesse\\secfsdstools\\data\\parquet\\quarter\\2010q3.zip",
         "2010q3.zip",
         "quarter",
         "https://www.sec.gov/Archives/edgar/data/1063761/000104746910007096/0001047469-10-007096-index.htm"
        ],
        [
         "5",
         "0000751652-10-000059",
         "751652",
         "QUESTAR CORP",
         "8-K",
         "20100930",
         "20100331",
         "C:\\Users\\Jesse\\secfsdstools\\data\\parquet\\quarter\\2010q3.zip",
         "2010q3.zip",
         "quarter",
         "https://www.sec.gov/Archives/edgar/data/751652/000075165210000059/0000751652-10-000059-index.htm"
        ],
        [
         "6",
         "0001047469-10-007229",
         "1273813",
         "ASSURED GUARANTY LTD",
         "10-Q",
         "20100809",
         "20100630",
         "C:\\Users\\Jesse\\secfsdstools\\data\\parquet\\quarter\\2010q3.zip",
         "2010q3.zip",
         "quarter",
         "https://www.sec.gov/Archives/edgar/data/1273813/000104746910007229/0001047469-10-007229-index.htm"
        ],
        [
         "7",
         "0001104659-10-039961",
         "1082554",
         "UNITED THERAPEUTICS CORP",
         "10-Q",
         "20100728",
         "20100630",
         "C:\\Users\\Jesse\\secfsdstools\\data\\parquet\\quarter\\2010q3.zip",
         "2010q3.zip",
         "quarter",
         "https://www.sec.gov/Archives/edgar/data/1082554/000110465910039961/0001104659-10-039961-index.htm"
        ],
        [
         "8",
         "0001104659-10-040501",
         "1038074",
         "SILICON LABORATORIES INC",
         "10-Q",
         "20100729",
         "20100630",
         "C:\\Users\\Jesse\\secfsdstools\\data\\parquet\\quarter\\2010q3.zip",
         "2010q3.zip",
         "quarter",
         "https://www.sec.gov/Archives/edgar/data/1038074/000110465910040501/0001104659-10-040501-index.htm"
        ],
        [
         "9",
         "0001104659-10-042687",
         "1315695",
         "ROCKWOOD HOLDINGS, INC.",
         "10-Q",
         "20100806",
         "20100630",
         "C:\\Users\\Jesse\\secfsdstools\\data\\parquet\\quarter\\2010q3.zip",
         "2010q3.zip",
         "quarter",
         "https://www.sec.gov/Archives/edgar/data/1315695/000110465910042687/0001104659-10-042687-index.htm"
        ],
        [
         "10",
         "0000314808-10-000121",
         "314808",
         "ENSCO PLC",
         "8-K",
         "20100813",
         "20091231",
         "C:\\Users\\Jesse\\secfsdstools\\data\\parquet\\quarter\\2010q3.zip",
         "2010q3.zip",
         "quarter",
         "https://www.sec.gov/Archives/edgar/data/314808/000031480810000121/0000314808-10-000121-index.htm"
        ],
        [
         "11",
         "0001144204-10-051763",
         "1132597",
         "ITAU UNIBANCO HOLDING S.A.",
         "6-K",
         "20100930",
         "20100630",
         "C:\\Users\\Jesse\\secfsdstools\\data\\parquet\\quarter\\2010q3.zip",
         "2010q3.zip",
         "quarter",
         "https://www.sec.gov/Archives/edgar/data/1132597/000114420410051763/0001144204-10-051763-index.htm"
        ],
        [
         "12",
         "0000950123-10-069539",
         "1133421",
         "NORTHROP GRUMMAN CORP /DE/",
         "10-Q",
         "20100729",
         "20100630",
         "C:\\Users\\Jesse\\secfsdstools\\data\\parquet\\quarter\\2010q3.zip",
         "2010q3.zip",
         "quarter",
         "https://www.sec.gov/Archives/edgar/data/1133421/000095012310069539/0000950123-10-069539-index.htm"
        ],
        [
         "13",
         "0000950123-10-075967",
         "1067428",
         "ANGLOGOLD ASHANTI LTD",
         "6-K",
         "20100811",
         "20091231",
         "C:\\Users\\Jesse\\secfsdstools\\data\\parquet\\quarter\\2010q3.zip",
         "2010q3.zip",
         "quarter",
         "https://www.sec.gov/Archives/edgar/data/1067428/000095012310075967/0000950123-10-075967-index.htm"
        ],
        [
         "14",
         "0000950123-10-072455",
         "929008",
         "WESCO INTERNATIONAL INC",
         "10-Q",
         "20100804",
         "20100630",
         "C:\\Users\\Jesse\\secfsdstools\\data\\parquet\\quarter\\2010q3.zip",
         "2010q3.zip",
         "quarter",
         "https://www.sec.gov/Archives/edgar/data/929008/000095012310072455/0000950123-10-072455-index.htm"
        ],
        [
         "15",
         "0001193125-10-178803",
         "1084755",
         "ARIBA INC",
         "10-Q",
         "20100805",
         "20100630",
         "C:\\Users\\Jesse\\secfsdstools\\data\\parquet\\quarter\\2010q3.zip",
         "2010q3.zip",
         "quarter",
         "https://www.sec.gov/Archives/edgar/data/1084755/000119312510178803/0001193125-10-178803-index.htm"
        ],
        [
         "16",
         "0001193125-10-180475",
         "1323854",
         "WARNER CHILCOTT PLC",
         "10-Q",
         "20100806",
         "20100630",
         "C:\\Users\\Jesse\\secfsdstools\\data\\parquet\\quarter\\2010q3.zip",
         "2010q3.zip",
         "quarter",
         "https://www.sec.gov/Archives/edgar/data/1323854/000119312510180475/0001193125-10-180475-index.htm"
        ],
        [
         "17",
         "0001193125-10-181294",
         "93751",
         "STATE STREET CORP",
         "10-Q",
         "20100806",
         "20100630",
         "C:\\Users\\Jesse\\secfsdstools\\data\\parquet\\quarter\\2010q3.zip",
         "2010q3.zip",
         "quarter",
         "https://www.sec.gov/Archives/edgar/data/93751/000119312510181294/0001193125-10-181294-index.htm"
        ],
        [
         "18",
         "0001047469-10-007421",
         "2809",
         "AGNICO EAGLE MINES LTD",
         "6-K",
         "20100812",
         "20100630",
         "C:\\Users\\Jesse\\secfsdstools\\data\\parquet\\quarter\\2010q3.zip",
         "2010q3.zip",
         "quarter",
         "https://www.sec.gov/Archives/edgar/data/2809/000104746910007421/0001047469-10-007421-index.htm"
        ],
        [
         "19",
         "0001104659-10-040660",
         "776867",
         "WHITE MOUNTAINS INSURANCE GROUP LTD",
         "10-Q",
         "20100730",
         "20100630",
         "C:\\Users\\Jesse\\secfsdstools\\data\\parquet\\quarter\\2010q3.zip",
         "2010q3.zip",
         "quarter",
         "https://www.sec.gov/Archives/edgar/data/776867/000110465910040660/0001104659-10-040660-index.htm"
        ],
        [
         "20",
         "0001104659-10-043215",
         "895648",
         "GENERAL GROWTH PROPERTIES INC",
         "10-Q",
         "20100809",
         "20100630",
         "C:\\Users\\Jesse\\secfsdstools\\data\\parquet\\quarter\\2010q3.zip",
         "2010q3.zip",
         "quarter",
         "https://www.sec.gov/Archives/edgar/data/895648/000110465910043215/0001104659-10-043215-index.htm"
        ],
        [
         "21",
         "0000026324-10-000010",
         "26324",
         "CURTISS WRIGHT CORP",
         "10-Q",
         "20100809",
         "20100630",
         "C:\\Users\\Jesse\\secfsdstools\\data\\parquet\\quarter\\2010q3.zip",
         "2010q3.zip",
         "quarter",
         "https://www.sec.gov/Archives/edgar/data/26324/000002632410000010/0000026324-10-000010-index.htm"
        ],
        [
         "22",
         "0001193125-10-176287",
         "1174746",
         "INTERCONTINENTALEXCHANGE INC",
         "10-Q",
         "20100804",
         "20100630",
         "C:\\Users\\Jesse\\secfsdstools\\data\\parquet\\quarter\\2010q3.zip",
         "2010q3.zip",
         "quarter",
         "https://www.sec.gov/Archives/edgar/data/1174746/000119312510176287/0001193125-10-176287-index.htm"
        ],
        [
         "23",
         "0001193125-10-178796",
         "1315257",
         "KOPPERS HOLDINGS INC.",
         "10-Q",
         "20100805",
         "20100630",
         "C:\\Users\\Jesse\\secfsdstools\\data\\parquet\\quarter\\2010q3.zip",
         "2010q3.zip",
         "quarter",
         "https://www.sec.gov/Archives/edgar/data/1315257/000119312510178796/0001193125-10-178796-index.htm"
        ],
        [
         "24",
         "0001193125-10-179569",
         "1170991",
         "DCT INDUSTRIAL TRUST INC.",
         "10-Q",
         "20100805",
         "20100630",
         "C:\\Users\\Jesse\\secfsdstools\\data\\parquet\\quarter\\2010q3.zip",
         "2010q3.zip",
         "quarter",
         "https://www.sec.gov/Archives/edgar/data/1170991/000119312510179569/0001193125-10-179569-index.htm"
        ],
        [
         "25",
         "0001193125-10-182725",
         "35527",
         "FIFTH THIRD BANCORP",
         "10-Q",
         "20100809",
         "20100630",
         "C:\\Users\\Jesse\\secfsdstools\\data\\parquet\\quarter\\2010q3.zip",
         "2010q3.zip",
         "quarter",
         "https://www.sec.gov/Archives/edgar/data/35527/000119312510182725/0001193125-10-182725-index.htm"
        ],
        [
         "26",
         "0000107815-10-000077",
         "783325",
         "WISCONSIN ENERGY CORP",
         "10-Q",
         "20100730",
         "20100630",
         "C:\\Users\\Jesse\\secfsdstools\\data\\parquet\\quarter\\2010q3.zip",
         "2010q3.zip",
         "quarter",
         "https://www.sec.gov/Archives/edgar/data/783325/000010781510000077/0000107815-10-000077-index.htm"
        ],
        [
         "27",
         "0000950123-10-078561",
         "1113481",
         "MEDICINES CO /DE",
         "10-Q/A",
         "20100817",
         "20100630",
         "C:\\Users\\Jesse\\secfsdstools\\data\\parquet\\quarter\\2010q3.zip",
         "2010q3.zip",
         "quarter",
         "https://www.sec.gov/Archives/edgar/data/1113481/000095012310078561/0000950123-10-078561-index.htm"
        ],
        [
         "28",
         "0000950123-10-074660",
         "1282977",
         "GREENHILL & CO INC",
         "10-Q",
         "20100809",
         "20100630",
         "C:\\Users\\Jesse\\secfsdstools\\data\\parquet\\quarter\\2010q3.zip",
         "2010q3.zip",
         "quarter",
         "https://www.sec.gov/Archives/edgar/data/1282977/000095012310074660/0000950123-10-074660-index.htm"
        ],
        [
         "29",
         "0000950123-10-072514",
         "829608",
         "PSYCHIATRIC SOLUTIONS INC",
         "10-Q",
         "20100804",
         "20100630",
         "C:\\Users\\Jesse\\secfsdstools\\data\\parquet\\quarter\\2010q3.zip",
         "2010q3.zip",
         "quarter",
         "https://www.sec.gov/Archives/edgar/data/829608/000095012310072514/0000950123-10-072514-index.htm"
        ],
        [
         "30",
         "0000950123-10-071085",
         "851205",
         "COGNEX CORP",
         "10-Q",
         "20100802",
         "20100630",
         "C:\\Users\\Jesse\\secfsdstools\\data\\parquet\\quarter\\2010q3.zip",
         "2010q3.zip",
         "quarter",
         "https://www.sec.gov/Archives/edgar/data/851205/000095012310071085/0000950123-10-071085-index.htm"
        ],
        [
         "31",
         "0000950123-10-072296",
         "1136893",
         "FIDELITY NATIONAL INFORMATION SERVICES, INC.",
         "10-Q",
         "20100804",
         "20100630",
         "C:\\Users\\Jesse\\secfsdstools\\data\\parquet\\quarter\\2010q3.zip",
         "2010q3.zip",
         "quarter",
         "https://www.sec.gov/Archives/edgar/data/1136893/000095012310072296/0000950123-10-072296-index.htm"
        ],
        [
         "32",
         "0001398432-10-000503",
         "879101",
         "KIMCO REALTY CORP",
         "10-Q",
         "20100809",
         "20100630",
         "C:\\Users\\Jesse\\secfsdstools\\data\\parquet\\quarter\\2010q3.zip",
         "2010q3.zip",
         "quarter",
         "https://www.sec.gov/Archives/edgar/data/879101/000139843210000503/0001398432-10-000503-index.htm"
        ],
        [
         "33",
         "0001140361-10-030757",
         "21665",
         "COLGATE PALMOLIVE CO",
         "10-Q",
         "20100729",
         "20100630",
         "C:\\Users\\Jesse\\secfsdstools\\data\\parquet\\quarter\\2010q3.zip",
         "2010q3.zip",
         "quarter",
         "https://www.sec.gov/Archives/edgar/data/21665/000114036110030757/0001140361-10-030757-index.htm"
        ],
        [
         "34",
         "0001140361-10-032337",
         "876437",
         "MGIC INVESTMENT CORP",
         "10-Q",
         "20100809",
         "20100630",
         "C:\\Users\\Jesse\\secfsdstools\\data\\parquet\\quarter\\2010q3.zip",
         "2010q3.zip",
         "quarter",
         "https://www.sec.gov/Archives/edgar/data/876437/000114036110032337/0001140361-10-032337-index.htm"
        ],
        [
         "35",
         "0001104659-10-042789",
         "1080034",
         "VALUECLICK INC/CA",
         "10-Q",
         "20100806",
         "20100630",
         "C:\\Users\\Jesse\\secfsdstools\\data\\parquet\\quarter\\2010q3.zip",
         "2010q3.zip",
         "quarter",
         "https://www.sec.gov/Archives/edgar/data/1080034/000110465910042789/0001104659-10-042789-index.htm"
        ],
        [
         "36",
         "0001104659-10-039527",
         "717605",
         "HEXCEL CORP /DE/",
         "10-Q",
         "20100726",
         "20100630",
         "C:\\Users\\Jesse\\secfsdstools\\data\\parquet\\quarter\\2010q3.zip",
         "2010q3.zip",
         "quarter",
         "https://www.sec.gov/Archives/edgar/data/717605/000110465910039527/0001104659-10-039527-index.htm"
        ],
        [
         "37",
         "0000086521-10-000055",
         "1032208",
         "SEMPRA ENERGY",
         "10-Q",
         "20100803",
         "20100630",
         "C:\\Users\\Jesse\\secfsdstools\\data\\parquet\\quarter\\2010q3.zip",
         "2010q3.zip",
         "quarter",
         "https://www.sec.gov/Archives/edgar/data/1032208/000008652110000055/0000086521-10-000055-index.htm"
        ],
        [
         "38",
         "0001047469-10-007029",
         "92103",
         "SOUTHERN CALIFORNIA EDISON CO",
         "10-Q",
         "20100805",
         "20100630",
         "C:\\Users\\Jesse\\secfsdstools\\data\\parquet\\quarter\\2010q3.zip",
         "2010q3.zip",
         "quarter",
         "https://www.sec.gov/Archives/edgar/data/92103/000104746910007029/0001047469-10-007029-index.htm"
        ],
        [
         "39",
         "0001047469-10-007076",
         "1234308",
         "DIRECTV HOLDINGS LLC",
         "10-Q",
         "20100806",
         "20100630",
         "C:\\Users\\Jesse\\secfsdstools\\data\\parquet\\quarter\\2010q3.zip",
         "2010q3.zip",
         "quarter",
         "https://www.sec.gov/Archives/edgar/data/1234308/000104746910007076/0001047469-10-007076-index.htm"
        ],
        [
         "40",
         "0001104659-10-041801",
         "1168054",
         "CIMAREX ENERGY CO",
         "10-Q",
         "20100804",
         "20100630",
         "C:\\Users\\Jesse\\secfsdstools\\data\\parquet\\quarter\\2010q3.zip",
         "2010q3.zip",
         "quarter",
         "https://www.sec.gov/Archives/edgar/data/1168054/000110465910041801/0001104659-10-041801-index.htm"
        ],
        [
         "41",
         "0001082510-10-000063",
         "1082510",
         "UIL HOLDINGS CORP",
         "10-Q",
         "20100804",
         "20100630",
         "C:\\Users\\Jesse\\secfsdstools\\data\\parquet\\quarter\\2010q3.zip",
         "2010q3.zip",
         "quarter",
         "https://www.sec.gov/Archives/edgar/data/1082510/000108251010000063/0001082510-10-000063-index.htm"
        ],
        [
         "42",
         "0001104659-10-042993",
         "11199",
         "BEMIS CO INC",
         "10-Q",
         "20100809",
         "20100630",
         "C:\\Users\\Jesse\\secfsdstools\\data\\parquet\\quarter\\2010q3.zip",
         "2010q3.zip",
         "quarter",
         "https://www.sec.gov/Archives/edgar/data/11199/000110465910042993/0001104659-10-042993-index.htm"
        ],
        [
         "43",
         "0001104659-10-040794",
         "1102541",
         "EARTHLINK INC",
         "10-Q",
         "20100730",
         "20100630",
         "C:\\Users\\Jesse\\secfsdstools\\data\\parquet\\quarter\\2010q3.zip",
         "2010q3.zip",
         "quarter",
         "https://www.sec.gov/Archives/edgar/data/1102541/000110465910040794/0001104659-10-040794-index.htm"
        ],
        [
         "44",
         "0000063296-10-000044",
         "63296",
         "MATTHEWS INTERNATIONAL CORP",
         "10-Q",
         "20100804",
         "20100630",
         "C:\\Users\\Jesse\\secfsdstools\\data\\parquet\\quarter\\2010q3.zip",
         "2010q3.zip",
         "quarter",
         "https://www.sec.gov/Archives/edgar/data/63296/000006329610000044/0000063296-10-000044-index.htm"
        ],
        [
         "45",
         "0001144204-10-041683",
         "1333513",
         "DEALERTRACK HOLDINGS, INC.",
         "10-Q",
         "20100806",
         "20100630",
         "C:\\Users\\Jesse\\secfsdstools\\data\\parquet\\quarter\\2010q3.zip",
         "2010q3.zip",
         "quarter",
         "https://www.sec.gov/Archives/edgar/data/1333513/000114420410041683/0001144204-10-041683-index.htm"
        ],
        [
         "46",
         "0001144204-10-043180",
         "769520",
         "MIDDLEBY CORP",
         "10-Q",
         "20100812",
         "20100630",
         "C:\\Users\\Jesse\\secfsdstools\\data\\parquet\\quarter\\2010q3.zip",
         "2010q3.zip",
         "quarter",
         "https://www.sec.gov/Archives/edgar/data/769520/000114420410043180/0001144204-10-043180-index.htm"
        ],
        [
         "47",
         "0001140361-10-036489",
         "768835",
         "BIG LOTS INC",
         "10-Q",
         "20100908",
         "20100731",
         "C:\\Users\\Jesse\\secfsdstools\\data\\parquet\\quarter\\2010q3.zip",
         "2010q3.zip",
         "quarter",
         "https://www.sec.gov/Archives/edgar/data/768835/000114036110036489/0001140361-10-036489-index.htm"
        ],
        [
         "48",
         "0001206774-10-001891",
         "21076",
         "CLOROX CO /DE/",
         "10-K",
         "20100826",
         "20100630",
         "C:\\Users\\Jesse\\secfsdstools\\data\\parquet\\quarter\\2010q3.zip",
         "2010q3.zip",
         "quarter",
         "https://www.sec.gov/Archives/edgar/data/21076/000120677410001891/0001206774-10-001891-index.htm"
        ],
        [
         "49",
         "0000091388-10-000035",
         "91388",
         "SMITHFIELD FOODS INC",
         "10-Q",
         "20100909",
         "20100731",
         "C:\\Users\\Jesse\\secfsdstools\\data\\parquet\\quarter\\2010q3.zip",
         "2010q3.zip",
         "quarter",
         "https://www.sec.gov/Archives/edgar/data/91388/000009138810000035/0000091388-10-000035-index.htm"
        ]
       ],
       "shape": {
        "columns": 10,
        "rows": 406989
       }
      },
      "text/html": [
       "<div>\n",
       "<style scoped>\n",
       "    .dataframe tbody tr th:only-of-type {\n",
       "        vertical-align: middle;\n",
       "    }\n",
       "\n",
       "    .dataframe tbody tr th {\n",
       "        vertical-align: top;\n",
       "    }\n",
       "\n",
       "    .dataframe thead th {\n",
       "        text-align: right;\n",
       "    }\n",
       "</style>\n",
       "<table border=\"1\" class=\"dataframe\">\n",
       "  <thead>\n",
       "    <tr style=\"text-align: right;\">\n",
       "      <th></th>\n",
       "      <th>adsh</th>\n",
       "      <th>cik</th>\n",
       "      <th>name</th>\n",
       "      <th>form</th>\n",
       "      <th>filed</th>\n",
       "      <th>period</th>\n",
       "      <th>fullPath</th>\n",
       "      <th>originFile</th>\n",
       "      <th>originFileType</th>\n",
       "      <th>url</th>\n",
       "    </tr>\n",
       "  </thead>\n",
       "  <tbody>\n",
       "    <tr>\n",
       "      <th>0</th>\n",
       "      <td>0000065984-10-000168</td>\n",
       "      <td>65984</td>\n",
       "      <td>ENTERGY CORP /DE/</td>\n",
       "      <td>10-Q/A</td>\n",
       "      <td>20100903</td>\n",
       "      <td>20100630</td>\n",
       "      <td>C:\\Users\\Jesse\\secfsdstools\\data\\parquet\\quarter\\2010q3.zip</td>\n",
       "      <td>2010q3.zip</td>\n",
       "      <td>quarter</td>\n",
       "      <td>https://www.sec.gov/Archives/edgar/data/65984/000006598410000168/0000065984-10-000168-index.htm</td>\n",
       "    </tr>\n",
       "    <tr>\n",
       "      <th>1</th>\n",
       "      <td>0001107694-10-000038</td>\n",
       "      <td>1107694</td>\n",
       "      <td>RACKSPACE HOSTING, INC.</td>\n",
       "      <td>10-Q/A</td>\n",
       "      <td>20100824</td>\n",
       "      <td>20100630</td>\n",
       "      <td>C:\\Users\\Jesse\\secfsdstools\\data\\parquet\\quarter\\2010q3.zip</td>\n",
       "      <td>2010q3.zip</td>\n",
       "      <td>quarter</td>\n",
       "      <td>https://www.sec.gov/Archives/edgar/data/1107694/000110769410000038/0001107694-10-000038-index.htm</td>\n",
       "    </tr>\n",
       "    <tr>\n",
       "      <th>2</th>\n",
       "      <td>0000031235-10-000089</td>\n",
       "      <td>31235</td>\n",
       "      <td>EASTMAN KODAK CO</td>\n",
       "      <td>10-Q</td>\n",
       "      <td>20100728</td>\n",
       "      <td>20100630</td>\n",
       "      <td>C:\\Users\\Jesse\\secfsdstools\\data\\parquet\\quarter\\2010q3.zip</td>\n",
       "      <td>2010q3.zip</td>\n",
       "      <td>quarter</td>\n",
       "      <td>https://www.sec.gov/Archives/edgar/data/31235/000003123510000089/0000031235-10-000089-index.htm</td>\n",
       "    </tr>\n",
       "    <tr>\n",
       "      <th>3</th>\n",
       "      <td>0001140361-10-032573</td>\n",
       "      <td>36047</td>\n",
       "      <td>CORELOGIC, INC.</td>\n",
       "      <td>10-Q/A</td>\n",
       "      <td>20100810</td>\n",
       "      <td>20100630</td>\n",
       "      <td>C:\\Users\\Jesse\\secfsdstools\\data\\parquet\\quarter\\2010q3.zip</td>\n",
       "      <td>2010q3.zip</td>\n",
       "      <td>quarter</td>\n",
       "      <td>https://www.sec.gov/Archives/edgar/data/36047/000114036110032573/0001140361-10-032573-index.htm</td>\n",
       "    </tr>\n",
       "    <tr>\n",
       "      <th>4</th>\n",
       "      <td>0001047469-10-007096</td>\n",
       "      <td>1063761</td>\n",
       "      <td>SIMON PROPERTY GROUP INC /DE/</td>\n",
       "      <td>10-Q</td>\n",
       "      <td>20100806</td>\n",
       "      <td>20100630</td>\n",
       "      <td>C:\\Users\\Jesse\\secfsdstools\\data\\parquet\\quarter\\2010q3.zip</td>\n",
       "      <td>2010q3.zip</td>\n",
       "      <td>quarter</td>\n",
       "      <td>https://www.sec.gov/Archives/edgar/data/1063761/000104746910007096/0001047469-10-007096-index.htm</td>\n",
       "    </tr>\n",
       "    <tr>\n",
       "      <th>...</th>\n",
       "      <td>...</td>\n",
       "      <td>...</td>\n",
       "      <td>...</td>\n",
       "      <td>...</td>\n",
       "      <td>...</td>\n",
       "      <td>...</td>\n",
       "      <td>...</td>\n",
       "      <td>...</td>\n",
       "      <td>...</td>\n",
       "      <td>...</td>\n",
       "    </tr>\n",
       "    <tr>\n",
       "      <th>406984</th>\n",
       "      <td>0001907982-22-000014</td>\n",
       "      <td>1907982</td>\n",
       "      <td>D-WAVE QUANTUM INC.</td>\n",
       "      <td>10-Q</td>\n",
       "      <td>20221110</td>\n",
       "      <td>20220930</td>\n",
       "      <td>C:\\Users\\Jesse\\secfsdstools\\data\\parquet\\quarter\\2022q4.zip</td>\n",
       "      <td>2022q4.zip</td>\n",
       "      <td>quarter</td>\n",
       "      <td>https://www.sec.gov/Archives/edgar/data/1907982/000190798222000014/0001907982-22-000014-index.htm</td>\n",
       "    </tr>\n",
       "    <tr>\n",
       "      <th>406985</th>\n",
       "      <td>0001915657-22-000091</td>\n",
       "      <td>1915657</td>\n",
       "      <td>HF SINCLAIR CORP</td>\n",
       "      <td>10-Q</td>\n",
       "      <td>20221107</td>\n",
       "      <td>20220930</td>\n",
       "      <td>C:\\Users\\Jesse\\secfsdstools\\data\\parquet\\quarter\\2022q4.zip</td>\n",
       "      <td>2022q4.zip</td>\n",
       "      <td>quarter</td>\n",
       "      <td>https://www.sec.gov/Archives/edgar/data/1915657/000191565722000091/0001915657-22-000091-index.htm</td>\n",
       "    </tr>\n",
       "    <tr>\n",
       "      <th>406986</th>\n",
       "      <td>0001929561-22-000022</td>\n",
       "      <td>1929561</td>\n",
       "      <td>RXO, INC.</td>\n",
       "      <td>10-Q</td>\n",
       "      <td>20221130</td>\n",
       "      <td>20220930</td>\n",
       "      <td>C:\\Users\\Jesse\\secfsdstools\\data\\parquet\\quarter\\2022q4.zip</td>\n",
       "      <td>2022q4.zip</td>\n",
       "      <td>quarter</td>\n",
       "      <td>https://www.sec.gov/Archives/edgar/data/1929561/000192956122000022/0001929561-22-000022-index.htm</td>\n",
       "    </tr>\n",
       "    <tr>\n",
       "      <th>406987</th>\n",
       "      <td>0001935979-22-000011</td>\n",
       "      <td>1935979</td>\n",
       "      <td>BIOHAVEN LTD.</td>\n",
       "      <td>10-Q</td>\n",
       "      <td>20221109</td>\n",
       "      <td>20220930</td>\n",
       "      <td>C:\\Users\\Jesse\\secfsdstools\\data\\parquet\\quarter\\2022q4.zip</td>\n",
       "      <td>2022q4.zip</td>\n",
       "      <td>quarter</td>\n",
       "      <td>https://www.sec.gov/Archives/edgar/data/1935979/000193597922000011/0001935979-22-000011-index.htm</td>\n",
       "    </tr>\n",
       "    <tr>\n",
       "      <th>406988</th>\n",
       "      <td>0001937653-22-000009</td>\n",
       "      <td>1937653</td>\n",
       "      <td>ZYMEWORKS INC.</td>\n",
       "      <td>10-Q</td>\n",
       "      <td>20221108</td>\n",
       "      <td>20220930</td>\n",
       "      <td>C:\\Users\\Jesse\\secfsdstools\\data\\parquet\\quarter\\2022q4.zip</td>\n",
       "      <td>2022q4.zip</td>\n",
       "      <td>quarter</td>\n",
       "      <td>https://www.sec.gov/Archives/edgar/data/1937653/000193765322000009/0001937653-22-000009-index.htm</td>\n",
       "    </tr>\n",
       "  </tbody>\n",
       "</table>\n",
       "<p>406989 rows × 10 columns</p>\n",
       "</div>"
      ],
      "text/plain": [
       "                        adsh      cik                           name    form     filed    period                                                     fullPath  originFile originFileType                                                                                                url\n",
       "0       0000065984-10-000168    65984              ENTERGY CORP /DE/  10-Q/A  20100903  20100630  C:\\Users\\Jesse\\secfsdstools\\data\\parquet\\quarter\\2010q3.zip  2010q3.zip        quarter    https://www.sec.gov/Archives/edgar/data/65984/000006598410000168/0000065984-10-000168-index.htm\n",
       "1       0001107694-10-000038  1107694        RACKSPACE HOSTING, INC.  10-Q/A  20100824  20100630  C:\\Users\\Jesse\\secfsdstools\\data\\parquet\\quarter\\2010q3.zip  2010q3.zip        quarter  https://www.sec.gov/Archives/edgar/data/1107694/000110769410000038/0001107694-10-000038-index.htm\n",
       "2       0000031235-10-000089    31235               EASTMAN KODAK CO    10-Q  20100728  20100630  C:\\Users\\Jesse\\secfsdstools\\data\\parquet\\quarter\\2010q3.zip  2010q3.zip        quarter    https://www.sec.gov/Archives/edgar/data/31235/000003123510000089/0000031235-10-000089-index.htm\n",
       "3       0001140361-10-032573    36047                CORELOGIC, INC.  10-Q/A  20100810  20100630  C:\\Users\\Jesse\\secfsdstools\\data\\parquet\\quarter\\2010q3.zip  2010q3.zip        quarter    https://www.sec.gov/Archives/edgar/data/36047/000114036110032573/0001140361-10-032573-index.htm\n",
       "4       0001047469-10-007096  1063761  SIMON PROPERTY GROUP INC /DE/    10-Q  20100806  20100630  C:\\Users\\Jesse\\secfsdstools\\data\\parquet\\quarter\\2010q3.zip  2010q3.zip        quarter  https://www.sec.gov/Archives/edgar/data/1063761/000104746910007096/0001047469-10-007096-index.htm\n",
       "...                      ...      ...                            ...     ...       ...       ...                                                          ...         ...            ...                                                                                                ...\n",
       "406984  0001907982-22-000014  1907982            D-WAVE QUANTUM INC.    10-Q  20221110  20220930  C:\\Users\\Jesse\\secfsdstools\\data\\parquet\\quarter\\2022q4.zip  2022q4.zip        quarter  https://www.sec.gov/Archives/edgar/data/1907982/000190798222000014/0001907982-22-000014-index.htm\n",
       "406985  0001915657-22-000091  1915657               HF SINCLAIR CORP    10-Q  20221107  20220930  C:\\Users\\Jesse\\secfsdstools\\data\\parquet\\quarter\\2022q4.zip  2022q4.zip        quarter  https://www.sec.gov/Archives/edgar/data/1915657/000191565722000091/0001915657-22-000091-index.htm\n",
       "406986  0001929561-22-000022  1929561                      RXO, INC.    10-Q  20221130  20220930  C:\\Users\\Jesse\\secfsdstools\\data\\parquet\\quarter\\2022q4.zip  2022q4.zip        quarter  https://www.sec.gov/Archives/edgar/data/1929561/000192956122000022/0001929561-22-000022-index.htm\n",
       "406987  0001935979-22-000011  1935979                  BIOHAVEN LTD.    10-Q  20221109  20220930  C:\\Users\\Jesse\\secfsdstools\\data\\parquet\\quarter\\2022q4.zip  2022q4.zip        quarter  https://www.sec.gov/Archives/edgar/data/1935979/000193597922000011/0001935979-22-000011-index.htm\n",
       "406988  0001937653-22-000009  1937653                 ZYMEWORKS INC.    10-Q  20221108  20220930  C:\\Users\\Jesse\\secfsdstools\\data\\parquet\\quarter\\2022q4.zip  2022q4.zip        quarter  https://www.sec.gov/Archives/edgar/data/1937653/000193765322000009/0001937653-22-000009-index.htm\n",
       "\n",
       "[406989 rows x 10 columns]"
      ]
     },
     "execution_count": 33,
     "metadata": {},
     "output_type": "execute_result"
    }
   ],
   "source": [
    "all_companies_df"
   ]
  },
  {
   "cell_type": "code",
   "execution_count": 90,
   "metadata": {},
   "outputs": [],
   "source": [
    "import polars as pl\n",
    "from pathlib import Path\n",
    "\n",
    "def latest_sic_per_company_from_adsh_polars(all_companies_df, parquet_root):\n",
    "    adshs = pl.Series(\"adsh\", all_companies_df[\"adsh\"].astype(str).tolist())\n",
    "    glob = (Path(parquet_root).expanduser().resolve() / \"**\" / \"sub.txt.parquet\").as_posix()\n",
    "\n",
    "    # Prefer schema_overrides; fall back to dtypes for older Polars\n",
    "    schema_overrides = {\"adsh\": pl.Utf8, \"cik\": pl.Int32 , \"sic\": pl.Float64 , \"filed\": pl.Int32 }\n",
    "    sub = pl.scan_parquet(glob, schema=schema_overrides,cast_options=pl.ScanCastOptions(integer_cast='upcast'), extra_columns='ignore')\n",
    "    df = (\n",
    "        sub\n",
    "        .filter(pl.col(\"adsh\").is_in(adshs) & pl.col(\"sic\").is_not_null())\n",
    "        .sort([\"cik\", \"filed\"], descending=[False, True])\n",
    "        .unique(subset=[\"cik\"], keep=\"first\")  # latest per company\n",
    "        .select([\"adsh\", \"cik\", \"sic\",])\n",
    "        .collect()\n",
    "    )\n",
    "    return df"
   ]
  },
  {
   "cell_type": "code",
   "execution_count": 98,
   "metadata": {},
   "outputs": [
    {
     "name": "stderr",
     "output_type": "stream",
     "text": [
      "C:\\Users\\Jesse\\AppData\\Local\\Temp\\ipykernel_32900\\52801627.py:17: DeprecationWarning: `is_in` with a collection of the same datatype is ambiguous and deprecated.\n",
      "Please use `implode` to return to previous behavior.\n",
      "\n",
      "See https://github.com/pola-rs/polars/issues/22149 for more information.\n",
      "  .collect()\n"
     ]
    }
   ],
   "source": [
    "sic_table = latest_sic_per_company_from_adsh_polars(all_companies_df, parquet_root=r'C:\\Users\\Jesse\\secfsdstools\\data\\parquet\\quarter')\n",
    "# join sic_table with all_companies_df to get company names\n",
    "sic_table = sic_table.to_pandas()\n",
    "# get mapping of cik to name from uniqiue name and cik in all_companies_df\n",
    "cik_name_mapping = all_companies_df[['cik', 'name']].drop_duplicates().set_index('cik')['name'].to_dict()\n",
    "sic_table['company_name'] = sic_table['cik'].map(cik_name_mapping)\n",
    "# add industry column and drop adsh\n",
    "sic_to_ind_map = SIC_mapping.set_index('SIC Code')['Industry Title'].to_dict()\n"
   ]
  },
  {
   "cell_type": "code",
   "execution_count": 100,
   "metadata": {},
   "outputs": [
    {
     "data": {
      "application/vnd.microsoft.datawrangler.viewer.v0+json": {
       "columns": [
        {
         "name": "index",
         "rawType": "int64",
         "type": "integer"
        },
        {
         "name": "cik",
         "rawType": "int32",
         "type": "integer"
        },
        {
         "name": "sic",
         "rawType": "float64",
         "type": "float"
        },
        {
         "name": "company_name",
         "rawType": "object",
         "type": "string"
        },
        {
         "name": "industry",
         "rawType": "object",
         "type": "string"
        }
       ],
       "ref": "7a5824eb-00cd-4ed6-9057-858da97d31ca",
       "rows": [
        [
         "0",
         "1750",
         "3720.0",
         "AAR CORP",
         "AIRCRAFT & PARTS"
        ],
        [
         "1",
         "1800",
         "2834.0",
         "ABBOTT LABORATORIES",
         "PHARMACEUTICAL PREPARATIONS"
        ],
        [
         "2",
         "1961",
         "7372.0",
         "WORLDS INC",
         "SERVICES-PREPACKAGED SOFTWARE"
        ],
        [
         "3",
         "2034",
         "5122.0",
         "ACETO CORP",
         "WHOLESALE-DRUGS, PROPRIETARIES & DRUGGISTS' SUNDRIES"
        ],
        [
         "4",
         "2098",
         "3420.0",
         "ACME UNITED CORP",
         "CUTLERY, HANDTOOLS & GENERAL HARDWARE"
        ],
        [
         "5",
         "2178",
         "5172.0",
         "ADAMS RESOURCES & ENERGY, INC.",
         "WHOLESALE-PETROLEUM & PETROLEUM PRODUCTS (NO BULK STATIONS)"
        ],
        [
         "6",
         "2186",
         "3663.0",
         "BK TECHNOLOGIES",
         "RADIO & TV BROADCASTING & COMMUNICATIONS EQUIPMENT"
        ],
        [
         "7",
         "2488",
         "3674.0",
         "ADVANCED MICRO DEVICES INC",
         "SEMICONDUCTORS & RELATED DEVICES"
        ],
        [
         "8",
         "2491",
         "7372.0",
         "BALLY TECHNOLOGIES, INC.",
         "SERVICES-PREPACKAGED SOFTWARE"
        ],
        [
         "9",
         "2809",
         "1040.0",
         "AGNICO EAGLE MINES LTD",
         "GOLD AND SILVER ORES"
        ],
        [
         "10",
         "2969",
         "2810.0",
         "AIR PRODUCTS & CHEMICALS, INC.",
         "INDUSTRIAL INORGANIC CHEMICALS"
        ],
        [
         "11",
         "3116",
         "2834.0",
         "AKORN INC",
         "PHARMACEUTICAL PREPARATIONS"
        ],
        [
         "12",
         "3146",
         "4924.0",
         "ALABAMA GAS CORP",
         "NATURAL GAS DISTRIBUTION"
        ],
        [
         "13",
         "3197",
         "3564.0",
         "CECO ENVIRONMENTAL CORP",
         "INDUSTRIAL & COMMERCIAL FANS & BLOWERS & AIR PURIFING EQUIP"
        ],
        [
         "14",
         "3453",
         "4400.0",
         "MATSON, INC.",
         "WATER TRANSPORTATION"
        ],
        [
         "15",
         "3499",
         "6798.0",
         "ALEXANDERS INC",
         "REAL ESTATE INVESTMENT TRUSTS"
        ],
        [
         "16",
         "3545",
         "100.0",
         "ALICO, INC.",
         "AGRICULTURAL PRODUCTION-CROPS"
        ],
        [
         "17",
         "3570",
         "4924.0",
         "CHENIERE ENERGY INC",
         "NATURAL GAS DISTRIBUTION"
        ],
        [
         "18",
         "3673",
         "4911.0",
         "ALLEGHENY ENERGY, INC",
         "ELECTRIC SERVICES"
        ],
        [
         "19",
         "3952",
         "3480.0",
         "ALLIED DEFENSE GROUP INC",
         "ORDNANCE & ACCESSORIES, (NO VEHICLES/GUIDED MISSILES)"
        ],
        [
         "20",
         "3982",
         "1389.0",
         "ALLIS CHALMERS ENERGY INC.",
         "OIL & GAS FIELD SERVICES, NEC"
        ],
        [
         "21",
         "4127",
         "3674.0",
         "SKYWORKS SOLUTIONS INC",
         "SEMICONDUCTORS & RELATED DEVICES"
        ],
        [
         "22",
         "4187",
         "5090.0",
         "INDUSTRIAL SERVICES OF AMERICA INC",
         "WHOLESALE-MISC DURABLE GOODS"
        ],
        [
         "23",
         "4281",
         "3350.0",
         "ARCONIC INC.",
         "ROLLING DRAWING & EXTRUDING OF NONFERROUS METALS"
        ],
        [
         "24",
         "4447",
         "2911.0",
         "HESS CORP",
         "PETROLEUM REFINING"
        ],
        [
         "25",
         "4457",
         "7510.0",
         "U-HAUL HOLDING CO /NV/",
         "SERVICES-AUTO RENTAL & LEASING (NO DRIVERS)"
        ],
        [
         "26",
         "4515",
         "4512.0",
         "AMERICAN AIRLINES INC",
         "AIR TRANSPORTATION, SCHEDULED"
        ],
        [
         "27",
         "4611",
         "3089.0",
         "AMERICAN BILTRITE INC",
         "PLASTICS PRODUCTS, NEC"
        ],
        [
         "28",
         "4828",
         "2060.0",
         "AMERICAN CRYSTAL SUGAR CO /MN/",
         "SUGAR & CONFECTIONERY PRODUCTS"
        ],
        [
         "29",
         "4904",
         "4911.0",
         "AMERICAN ELECTRIC POWER CO INC",
         "ELECTRIC SERVICES"
        ],
        [
         "30",
         "4962",
         "6199.0",
         "AMERICAN EXPRESS CO",
         "FINANCE SERVICES"
        ],
        [
         "31",
         "4969",
         "6153.0",
         "AMERICAN EXPRESS CREDIT CORP",
         "SHORT-TERM BUSINESS CREDIT INSTITUTIONS"
        ],
        [
         "32",
         "4977",
         "6321.0",
         "AFLAC INC",
         "ACCIDENT & HEALTH INSURANCE"
        ],
        [
         "33",
         "5117",
         "7389.0",
         "EMTEC INC/NJ",
         "SERVICES-BUSINESS SERVICES, NEC"
        ],
        [
         "34",
         "5133",
         "2771.0",
         "AMERICAN GREETINGS CORP",
         "GREETING CARDS"
        ],
        [
         "35",
         "5187",
         "2834.0",
         "WYETH",
         "PHARMACEUTICAL PREPARATIONS"
        ],
        [
         "36",
         "5272",
         "6331.0",
         "AMERICAN INTERNATIONAL GROUP, INC.",
         "FIRE, MARINE & CASUALTY INSURANCE"
        ],
        [
         "37",
         "5513",
         "6321.0",
         "UNUM GROUP",
         "ACCIDENT & HEALTH INSURANCE"
        ],
        [
         "38",
         "5656",
         "1040.0",
         "AMERICAN INTERNATIONAL VENTURES INC /DE/",
         "GOLD AND SILVER ORES"
        ],
        [
         "39",
         "5768",
         "3844.0",
         "AMERICAN SCIENCE & ENGINEERING, INC.",
         "X-RAY APPARATUS & TUBES & RELATED IRRADIATION APPARATUS"
        ],
        [
         "40",
         "5981",
         "2870.0",
         "AMERICAN VANGUARD CORP",
         "AGRICULTURAL CHEMICALS"
        ],
        [
         "41",
         "6176",
         "3561.0",
         "AMPCO PITTSBURGH CORP",
         "PUMPS & PUMPING EQUIPMENT"
        ],
        [
         "42",
         "6201",
         "4512.0",
         "AMERICAN AIRLINES GROUP INC.",
         "AIR TRANSPORTATION, SCHEDULED"
        ],
        [
         "43",
         "6207",
         "6552.0",
         "AMREP CORP.",
         "LAND SUBDIVIDERS & DEVELOPERS (NO CEMETERIES)"
        ],
        [
         "44",
         "6281",
         "3674.0",
         "ANALOG DEVICES INC",
         "SEMICONDUCTORS & RELATED DEVICES"
        ],
        [
         "45",
         "6284",
         "3825.0",
         "ANALOGIC CORP",
         "INSTRUMENTS FOR MEAS & TESTING OF ELECTRICITY & ELEC SIGNALS"
        ],
        [
         "46",
         "6292",
         "7371.0",
         "ANALYSTS INTERNATIONAL CORP",
         "SERVICES-COMPUTER PROGRAMMING SERVICES"
        ],
        [
         "47",
         "6314",
         "3663.0",
         "ANAREN INC",
         "RADIO & TV BROADCASTING & COMMUNICATIONS EQUIPMENT"
        ],
        [
         "48",
         "6494",
         "3663.0",
         "ANDREA ELECTRONICS CORP",
         "RADIO & TV BROADCASTING & COMMUNICATIONS EQUIPMENT"
        ],
        [
         "49",
         "6732",
         "3560.0",
         "NAC GLOBAL TECHNOLOGIES, INC.",
         "GENERAL INDUSTRIAL MACHINERY & EQUIPMENT"
        ]
       ],
       "shape": {
        "columns": 4,
        "rows": 16134
       }
      },
      "text/html": [
       "<div>\n",
       "<style scoped>\n",
       "    .dataframe tbody tr th:only-of-type {\n",
       "        vertical-align: middle;\n",
       "    }\n",
       "\n",
       "    .dataframe tbody tr th {\n",
       "        vertical-align: top;\n",
       "    }\n",
       "\n",
       "    .dataframe thead th {\n",
       "        text-align: right;\n",
       "    }\n",
       "</style>\n",
       "<table border=\"1\" class=\"dataframe\">\n",
       "  <thead>\n",
       "    <tr style=\"text-align: right;\">\n",
       "      <th></th>\n",
       "      <th>cik</th>\n",
       "      <th>sic</th>\n",
       "      <th>company_name</th>\n",
       "      <th>industry</th>\n",
       "    </tr>\n",
       "  </thead>\n",
       "  <tbody>\n",
       "    <tr>\n",
       "      <th>0</th>\n",
       "      <td>1750</td>\n",
       "      <td>3720.0</td>\n",
       "      <td>AAR CORP</td>\n",
       "      <td>AIRCRAFT &amp; PARTS</td>\n",
       "    </tr>\n",
       "    <tr>\n",
       "      <th>1</th>\n",
       "      <td>1800</td>\n",
       "      <td>2834.0</td>\n",
       "      <td>ABBOTT LABORATORIES</td>\n",
       "      <td>PHARMACEUTICAL PREPARATIONS</td>\n",
       "    </tr>\n",
       "    <tr>\n",
       "      <th>2</th>\n",
       "      <td>1961</td>\n",
       "      <td>7372.0</td>\n",
       "      <td>WORLDS INC</td>\n",
       "      <td>SERVICES-PREPACKAGED SOFTWARE</td>\n",
       "    </tr>\n",
       "    <tr>\n",
       "      <th>3</th>\n",
       "      <td>2034</td>\n",
       "      <td>5122.0</td>\n",
       "      <td>ACETO CORP</td>\n",
       "      <td>WHOLESALE-DRUGS, PROPRIETARIES &amp; DRUGGISTS' SUNDRIES</td>\n",
       "    </tr>\n",
       "    <tr>\n",
       "      <th>4</th>\n",
       "      <td>2098</td>\n",
       "      <td>3420.0</td>\n",
       "      <td>ACME UNITED CORP</td>\n",
       "      <td>CUTLERY, HANDTOOLS &amp; GENERAL HARDWARE</td>\n",
       "    </tr>\n",
       "    <tr>\n",
       "      <th>...</th>\n",
       "      <td>...</td>\n",
       "      <td>...</td>\n",
       "      <td>...</td>\n",
       "      <td>...</td>\n",
       "    </tr>\n",
       "    <tr>\n",
       "      <th>16129</th>\n",
       "      <td>2055459</td>\n",
       "      <td>6770.0</td>\n",
       "      <td>REPUBLIC DIGITAL ACQUISITION CO</td>\n",
       "      <td>BLANK CHECKS</td>\n",
       "    </tr>\n",
       "    <tr>\n",
       "      <th>16130</th>\n",
       "      <td>2057043</td>\n",
       "      <td>6770.0</td>\n",
       "      <td>WEN ACQUISITION CORP</td>\n",
       "      <td>BLANK CHECKS</td>\n",
       "    </tr>\n",
       "    <tr>\n",
       "      <th>16131</th>\n",
       "      <td>2058758</td>\n",
       "      <td>6036.0</td>\n",
       "      <td>AVIDIA BANCORP, INC.</td>\n",
       "      <td>SAVINGS INSTITUTIONS, NOT FEDERALLY CHARTERED</td>\n",
       "    </tr>\n",
       "    <tr>\n",
       "      <th>16132</th>\n",
       "      <td>2061473</td>\n",
       "      <td>6770.0</td>\n",
       "      <td>PERIMETER ACQUISITION CORP. I</td>\n",
       "      <td>BLANK CHECKS</td>\n",
       "    </tr>\n",
       "    <tr>\n",
       "      <th>16133</th>\n",
       "      <td>2069378</td>\n",
       "      <td>6770.0</td>\n",
       "      <td>INFINT ACQUISITION CORP 2</td>\n",
       "      <td>BLANK CHECKS</td>\n",
       "    </tr>\n",
       "  </tbody>\n",
       "</table>\n",
       "<p>16134 rows × 4 columns</p>\n",
       "</div>"
      ],
      "text/plain": [
       "           cik     sic                     company_name                                              industry\n",
       "0         1750  3720.0                         AAR CORP                                      AIRCRAFT & PARTS\n",
       "1         1800  2834.0              ABBOTT LABORATORIES                           PHARMACEUTICAL PREPARATIONS\n",
       "2         1961  7372.0                       WORLDS INC                         SERVICES-PREPACKAGED SOFTWARE\n",
       "3         2034  5122.0                       ACETO CORP  WHOLESALE-DRUGS, PROPRIETARIES & DRUGGISTS' SUNDRIES\n",
       "4         2098  3420.0                 ACME UNITED CORP                 CUTLERY, HANDTOOLS & GENERAL HARDWARE\n",
       "...        ...     ...                              ...                                                   ...\n",
       "16129  2055459  6770.0  REPUBLIC DIGITAL ACQUISITION CO                                          BLANK CHECKS\n",
       "16130  2057043  6770.0             WEN ACQUISITION CORP                                          BLANK CHECKS\n",
       "16131  2058758  6036.0             AVIDIA BANCORP, INC.         SAVINGS INSTITUTIONS, NOT FEDERALLY CHARTERED\n",
       "16132  2061473  6770.0    PERIMETER ACQUISITION CORP. I                                          BLANK CHECKS\n",
       "16133  2069378  6770.0        INFINT ACQUISITION CORP 2                                          BLANK CHECKS\n",
       "\n",
       "[16134 rows x 4 columns]"
      ]
     },
     "execution_count": 100,
     "metadata": {},
     "output_type": "execute_result"
    }
   ],
   "source": [
    "sic_table['industry'] = sic_table['sic'].map(sic_to_ind_map)\n",
    "sic_table = sic_table.drop(columns=['adsh'])\n",
    "sic_table"
   ]
  },
  {
   "cell_type": "code",
   "execution_count": 101,
   "metadata": {},
   "outputs": [],
   "source": [
    "# save the table \n",
    "sic_table.to_csv(root.parent / 'knowledge/sic_latest_per_company.csv', index=False)"
   ]
  },
  {
   "cell_type": "markdown",
   "metadata": {},
   "source": [
    "### get companies in sector"
   ]
  },
  {
   "cell_type": "code",
   "execution_count": 106,
   "metadata": {},
   "outputs": [
    {
     "data": {
      "application/vnd.microsoft.datawrangler.viewer.v0+json": {
       "columns": [
        {
         "name": "index",
         "rawType": "int64",
         "type": "integer"
        },
        {
         "name": "cik",
         "rawType": "int64",
         "type": "integer"
        },
        {
         "name": "sic",
         "rawType": "float64",
         "type": "float"
        },
        {
         "name": "company_name",
         "rawType": "object",
         "type": "string"
        },
        {
         "name": "industry",
         "rawType": "object",
         "type": "string"
        }
       ],
       "ref": "b4fa0dc5-a212-4b60-a2c1-a053548b096a",
       "rows": [
        [
         "40",
         "5981",
         "2870.0",
         "AMERICAN VANGUARD CORP",
         "AGRICULTURAL CHEMICALS"
        ],
        [
         "1468",
         "750150",
         "2870.0",
         "WESTBRIDGE RESEARCH GROUP",
         "AGRICULTURAL CHEMICALS"
        ],
        [
         "1983",
         "825542",
         "2870.0",
         "SCOTTS MIRACLE-GRO CO",
         "AGRICULTURAL CHEMICALS"
        ],
        [
         "2210",
         "855931",
         "2870.0",
         "POTASH CORP OF SASKATCHEWAN INC",
         "AGRICULTURAL CHEMICALS"
        ],
        [
         "2220",
         "857949",
         "2870.0",
         "ENLIGHTIFY INC.",
         "AGRICULTURAL CHEMICALS"
        ],
        [
         "2338",
         "868725",
         "2870.0",
         "RENTECH, INC.",
         "AGRICULTURAL CHEMICALS"
        ],
        [
         "2403",
         "875729",
         "2870.0",
         "BION ENVIRONMENTAL TECHNOLOGIES INC",
         "AGRICULTURAL CHEMICALS"
        ],
        [
         "2439",
         "879575",
         "2870.0",
         "TERRA NITROGEN CO L P /DE",
         "AGRICULTURAL CHEMICALS"
        ],
        [
         "3217",
         "941221",
         "2870.0",
         "ISRAEL CHEMICALS LTD",
         "AGRICULTURAL CHEMICALS"
        ],
        [
         "3224",
         "943003",
         "2870.0",
         "AGRIUM INC",
         "AGRICULTURAL CHEMICALS"
        ],
        [
         "3742",
         "1031896",
         "2870.0",
         "AMERICAN SOIL TECHNOLOGIES INC",
         "AGRICULTURAL CHEMICALS"
        ],
        [
         "4870",
         "1110783",
         "2870.0",
         "MONSANTO CO /NEW/",
         "AGRICULTURAL CHEMICALS"
        ],
        [
         "5343",
         "1159275",
         "2870.0",
         "KIWA BIO-TECH PRODUCTS GROUP CORP",
         "AGRICULTURAL CHEMICALS"
        ],
        [
         "5587",
         "1178552",
         "2870.0",
         "BODISEN BIOTECH, INC",
         "AGRICULTURAL CHEMICALS"
        ],
        [
         "6036",
         "1285785",
         "2870.0",
         "MOSAIC CO",
         "AGRICULTURAL CHEMICALS"
        ],
        [
         "6477",
         "1324404",
         "2870.0",
         "CF INDUSTRIES HOLDINGS, INC.",
         "AGRICULTURAL CHEMICALS"
        ],
        [
         "7299",
         "1378270",
         "2870.0",
         "CHINA AGRI-BUSINESS, INC.",
         "AGRICULTURAL CHEMICALS"
        ],
        [
         "7670",
         "1398551",
         "2870.0",
         "YONGYE INTERNATIONAL, INC.",
         "AGRICULTURAL CHEMICALS"
        ],
        [
         "8061",
         "1417624",
         "2870.0",
         "CHANGDA INTERNATIONAL HOLDINGS, INC.",
         "AGRICULTURAL CHEMICALS"
        ],
        [
         "8254",
         "1425292",
         "2870.0",
         "CVR PARTNERS, LP",
         "AGRICULTURAL CHEMICALS"
        ],
        [
         "8436",
         "1435224",
         "2870.0",
         "VEGALAB, INC.",
         "AGRICULTURAL CHEMICALS"
        ],
        [
         "8566",
         "1441693",
         "2870.0",
         "MARRONE BIO INNOVATIONS INC",
         "AGRICULTURAL CHEMICALS"
        ],
        [
         "9943",
         "1517248",
         "2870.0",
         "ORGANIC PLANT HEALTH INC.",
         "AGRICULTURAL CHEMICALS"
        ],
        [
         "10103",
         "1525998",
         "2870.0",
         "RENTECH NITROGEN PARTNERS, L.P.",
         "AGRICULTURAL CHEMICALS"
        ],
        [
         "10848",
         "1571804",
         "2870.0",
         "VIBE WIRELESS CORP.",
         "AGRICULTURAL CHEMICALS"
        ],
        [
         "10889",
         "1574565",
         "2870.0",
         "EVOGENE LTD.",
         "AGRICULTURAL CHEMICALS"
        ],
        [
         "10924",
         "1575858",
         "2870.0",
         "PUREBASE CORP",
         "AGRICULTURAL CHEMICALS"
        ],
        [
         "11209",
         "1592016",
         "2870.0",
         "BOULEVARD ACQUISITION CORP.",
         "AGRICULTURAL CHEMICALS"
        ],
        [
         "11801",
         "1629665",
         "2870.0",
         "MULIANG AGRITECH, INC.",
         "AGRICULTURAL CHEMICALS"
        ],
        [
         "12419",
         "1680378",
         "2870.0",
         "SENESTECH, INC.",
         "AGRICULTURAL CHEMICALS"
        ],
        [
         "12708",
         "1705843",
         "2870.0",
         "CALYXT, INC.",
         "AGRICULTURAL CHEMICALS"
        ],
        [
         "12959",
         "1725964",
         "2870.0",
         "NUTRIEN LTD.",
         "AGRICULTURAL CHEMICALS"
        ],
        [
         "13380",
         "1769484",
         "2870.0",
         "BIOCERES CROP SOLUTIONS CORP.",
         "AGRICULTURAL CHEMICALS"
        ],
        [
         "13574",
         "1789192",
         "2870.0",
         "SAVE FOODS, INC.",
         "AGRICULTURAL CHEMICALS"
        ],
        [
         "13618",
         "1794276",
         "2870.0",
         "YCQH AGRICULTURAL TECHNOLOGY CO. LTD",
         "AGRICULTURAL CHEMICALS"
        ],
        [
         "13650",
         "1797762",
         "2870.0",
         "KENONGWO GROUP US, INC.",
         "AGRICULTURAL CHEMICALS"
        ]
       ],
       "shape": {
        "columns": 4,
        "rows": 36
       }
      },
      "text/html": [
       "<div>\n",
       "<style scoped>\n",
       "    .dataframe tbody tr th:only-of-type {\n",
       "        vertical-align: middle;\n",
       "    }\n",
       "\n",
       "    .dataframe tbody tr th {\n",
       "        vertical-align: top;\n",
       "    }\n",
       "\n",
       "    .dataframe thead th {\n",
       "        text-align: right;\n",
       "    }\n",
       "</style>\n",
       "<table border=\"1\" class=\"dataframe\">\n",
       "  <thead>\n",
       "    <tr style=\"text-align: right;\">\n",
       "      <th></th>\n",
       "      <th>cik</th>\n",
       "      <th>sic</th>\n",
       "      <th>company_name</th>\n",
       "      <th>industry</th>\n",
       "    </tr>\n",
       "  </thead>\n",
       "  <tbody>\n",
       "    <tr>\n",
       "      <th>40</th>\n",
       "      <td>5981</td>\n",
       "      <td>2870.0</td>\n",
       "      <td>AMERICAN VANGUARD CORP</td>\n",
       "      <td>AGRICULTURAL CHEMICALS</td>\n",
       "    </tr>\n",
       "    <tr>\n",
       "      <th>1468</th>\n",
       "      <td>750150</td>\n",
       "      <td>2870.0</td>\n",
       "      <td>WESTBRIDGE RESEARCH GROUP</td>\n",
       "      <td>AGRICULTURAL CHEMICALS</td>\n",
       "    </tr>\n",
       "    <tr>\n",
       "      <th>1983</th>\n",
       "      <td>825542</td>\n",
       "      <td>2870.0</td>\n",
       "      <td>SCOTTS MIRACLE-GRO CO</td>\n",
       "      <td>AGRICULTURAL CHEMICALS</td>\n",
       "    </tr>\n",
       "    <tr>\n",
       "      <th>2210</th>\n",
       "      <td>855931</td>\n",
       "      <td>2870.0</td>\n",
       "      <td>POTASH CORP OF SASKATCHEWAN INC</td>\n",
       "      <td>AGRICULTURAL CHEMICALS</td>\n",
       "    </tr>\n",
       "    <tr>\n",
       "      <th>2220</th>\n",
       "      <td>857949</td>\n",
       "      <td>2870.0</td>\n",
       "      <td>ENLIGHTIFY INC.</td>\n",
       "      <td>AGRICULTURAL CHEMICALS</td>\n",
       "    </tr>\n",
       "    <tr>\n",
       "      <th>2338</th>\n",
       "      <td>868725</td>\n",
       "      <td>2870.0</td>\n",
       "      <td>RENTECH, INC.</td>\n",
       "      <td>AGRICULTURAL CHEMICALS</td>\n",
       "    </tr>\n",
       "    <tr>\n",
       "      <th>2403</th>\n",
       "      <td>875729</td>\n",
       "      <td>2870.0</td>\n",
       "      <td>BION ENVIRONMENTAL TECHNOLOGIES INC</td>\n",
       "      <td>AGRICULTURAL CHEMICALS</td>\n",
       "    </tr>\n",
       "    <tr>\n",
       "      <th>2439</th>\n",
       "      <td>879575</td>\n",
       "      <td>2870.0</td>\n",
       "      <td>TERRA NITROGEN CO L P /DE</td>\n",
       "      <td>AGRICULTURAL CHEMICALS</td>\n",
       "    </tr>\n",
       "    <tr>\n",
       "      <th>3217</th>\n",
       "      <td>941221</td>\n",
       "      <td>2870.0</td>\n",
       "      <td>ISRAEL CHEMICALS LTD</td>\n",
       "      <td>AGRICULTURAL CHEMICALS</td>\n",
       "    </tr>\n",
       "    <tr>\n",
       "      <th>3224</th>\n",
       "      <td>943003</td>\n",
       "      <td>2870.0</td>\n",
       "      <td>AGRIUM INC</td>\n",
       "      <td>AGRICULTURAL CHEMICALS</td>\n",
       "    </tr>\n",
       "    <tr>\n",
       "      <th>3742</th>\n",
       "      <td>1031896</td>\n",
       "      <td>2870.0</td>\n",
       "      <td>AMERICAN SOIL TECHNOLOGIES INC</td>\n",
       "      <td>AGRICULTURAL CHEMICALS</td>\n",
       "    </tr>\n",
       "    <tr>\n",
       "      <th>4870</th>\n",
       "      <td>1110783</td>\n",
       "      <td>2870.0</td>\n",
       "      <td>MONSANTO CO /NEW/</td>\n",
       "      <td>AGRICULTURAL CHEMICALS</td>\n",
       "    </tr>\n",
       "    <tr>\n",
       "      <th>5343</th>\n",
       "      <td>1159275</td>\n",
       "      <td>2870.0</td>\n",
       "      <td>KIWA BIO-TECH PRODUCTS GROUP CORP</td>\n",
       "      <td>AGRICULTURAL CHEMICALS</td>\n",
       "    </tr>\n",
       "    <tr>\n",
       "      <th>5587</th>\n",
       "      <td>1178552</td>\n",
       "      <td>2870.0</td>\n",
       "      <td>BODISEN BIOTECH, INC</td>\n",
       "      <td>AGRICULTURAL CHEMICALS</td>\n",
       "    </tr>\n",
       "    <tr>\n",
       "      <th>6036</th>\n",
       "      <td>1285785</td>\n",
       "      <td>2870.0</td>\n",
       "      <td>MOSAIC CO</td>\n",
       "      <td>AGRICULTURAL CHEMICALS</td>\n",
       "    </tr>\n",
       "    <tr>\n",
       "      <th>6477</th>\n",
       "      <td>1324404</td>\n",
       "      <td>2870.0</td>\n",
       "      <td>CF INDUSTRIES HOLDINGS, INC.</td>\n",
       "      <td>AGRICULTURAL CHEMICALS</td>\n",
       "    </tr>\n",
       "    <tr>\n",
       "      <th>7299</th>\n",
       "      <td>1378270</td>\n",
       "      <td>2870.0</td>\n",
       "      <td>CHINA AGRI-BUSINESS, INC.</td>\n",
       "      <td>AGRICULTURAL CHEMICALS</td>\n",
       "    </tr>\n",
       "    <tr>\n",
       "      <th>7670</th>\n",
       "      <td>1398551</td>\n",
       "      <td>2870.0</td>\n",
       "      <td>YONGYE INTERNATIONAL, INC.</td>\n",
       "      <td>AGRICULTURAL CHEMICALS</td>\n",
       "    </tr>\n",
       "    <tr>\n",
       "      <th>8061</th>\n",
       "      <td>1417624</td>\n",
       "      <td>2870.0</td>\n",
       "      <td>CHANGDA INTERNATIONAL HOLDINGS, INC.</td>\n",
       "      <td>AGRICULTURAL CHEMICALS</td>\n",
       "    </tr>\n",
       "    <tr>\n",
       "      <th>8254</th>\n",
       "      <td>1425292</td>\n",
       "      <td>2870.0</td>\n",
       "      <td>CVR PARTNERS, LP</td>\n",
       "      <td>AGRICULTURAL CHEMICALS</td>\n",
       "    </tr>\n",
       "    <tr>\n",
       "      <th>8436</th>\n",
       "      <td>1435224</td>\n",
       "      <td>2870.0</td>\n",
       "      <td>VEGALAB, INC.</td>\n",
       "      <td>AGRICULTURAL CHEMICALS</td>\n",
       "    </tr>\n",
       "    <tr>\n",
       "      <th>8566</th>\n",
       "      <td>1441693</td>\n",
       "      <td>2870.0</td>\n",
       "      <td>MARRONE BIO INNOVATIONS INC</td>\n",
       "      <td>AGRICULTURAL CHEMICALS</td>\n",
       "    </tr>\n",
       "    <tr>\n",
       "      <th>9943</th>\n",
       "      <td>1517248</td>\n",
       "      <td>2870.0</td>\n",
       "      <td>ORGANIC PLANT HEALTH INC.</td>\n",
       "      <td>AGRICULTURAL CHEMICALS</td>\n",
       "    </tr>\n",
       "    <tr>\n",
       "      <th>10103</th>\n",
       "      <td>1525998</td>\n",
       "      <td>2870.0</td>\n",
       "      <td>RENTECH NITROGEN PARTNERS, L.P.</td>\n",
       "      <td>AGRICULTURAL CHEMICALS</td>\n",
       "    </tr>\n",
       "    <tr>\n",
       "      <th>10848</th>\n",
       "      <td>1571804</td>\n",
       "      <td>2870.0</td>\n",
       "      <td>VIBE WIRELESS CORP.</td>\n",
       "      <td>AGRICULTURAL CHEMICALS</td>\n",
       "    </tr>\n",
       "    <tr>\n",
       "      <th>10889</th>\n",
       "      <td>1574565</td>\n",
       "      <td>2870.0</td>\n",
       "      <td>EVOGENE LTD.</td>\n",
       "      <td>AGRICULTURAL CHEMICALS</td>\n",
       "    </tr>\n",
       "    <tr>\n",
       "      <th>10924</th>\n",
       "      <td>1575858</td>\n",
       "      <td>2870.0</td>\n",
       "      <td>PUREBASE CORP</td>\n",
       "      <td>AGRICULTURAL CHEMICALS</td>\n",
       "    </tr>\n",
       "    <tr>\n",
       "      <th>11209</th>\n",
       "      <td>1592016</td>\n",
       "      <td>2870.0</td>\n",
       "      <td>BOULEVARD ACQUISITION CORP.</td>\n",
       "      <td>AGRICULTURAL CHEMICALS</td>\n",
       "    </tr>\n",
       "    <tr>\n",
       "      <th>11801</th>\n",
       "      <td>1629665</td>\n",
       "      <td>2870.0</td>\n",
       "      <td>MULIANG AGRITECH, INC.</td>\n",
       "      <td>AGRICULTURAL CHEMICALS</td>\n",
       "    </tr>\n",
       "    <tr>\n",
       "      <th>12419</th>\n",
       "      <td>1680378</td>\n",
       "      <td>2870.0</td>\n",
       "      <td>SENESTECH, INC.</td>\n",
       "      <td>AGRICULTURAL CHEMICALS</td>\n",
       "    </tr>\n",
       "    <tr>\n",
       "      <th>12708</th>\n",
       "      <td>1705843</td>\n",
       "      <td>2870.0</td>\n",
       "      <td>CALYXT, INC.</td>\n",
       "      <td>AGRICULTURAL CHEMICALS</td>\n",
       "    </tr>\n",
       "    <tr>\n",
       "      <th>12959</th>\n",
       "      <td>1725964</td>\n",
       "      <td>2870.0</td>\n",
       "      <td>NUTRIEN LTD.</td>\n",
       "      <td>AGRICULTURAL CHEMICALS</td>\n",
       "    </tr>\n",
       "    <tr>\n",
       "      <th>13380</th>\n",
       "      <td>1769484</td>\n",
       "      <td>2870.0</td>\n",
       "      <td>BIOCERES CROP SOLUTIONS CORP.</td>\n",
       "      <td>AGRICULTURAL CHEMICALS</td>\n",
       "    </tr>\n",
       "    <tr>\n",
       "      <th>13574</th>\n",
       "      <td>1789192</td>\n",
       "      <td>2870.0</td>\n",
       "      <td>SAVE FOODS, INC.</td>\n",
       "      <td>AGRICULTURAL CHEMICALS</td>\n",
       "    </tr>\n",
       "    <tr>\n",
       "      <th>13618</th>\n",
       "      <td>1794276</td>\n",
       "      <td>2870.0</td>\n",
       "      <td>YCQH AGRICULTURAL TECHNOLOGY CO. LTD</td>\n",
       "      <td>AGRICULTURAL CHEMICALS</td>\n",
       "    </tr>\n",
       "    <tr>\n",
       "      <th>13650</th>\n",
       "      <td>1797762</td>\n",
       "      <td>2870.0</td>\n",
       "      <td>KENONGWO GROUP US, INC.</td>\n",
       "      <td>AGRICULTURAL CHEMICALS</td>\n",
       "    </tr>\n",
       "  </tbody>\n",
       "</table>\n",
       "</div>"
      ],
      "text/plain": [
       "           cik     sic                          company_name                industry\n",
       "40        5981  2870.0                AMERICAN VANGUARD CORP  AGRICULTURAL CHEMICALS\n",
       "1468    750150  2870.0             WESTBRIDGE RESEARCH GROUP  AGRICULTURAL CHEMICALS\n",
       "1983    825542  2870.0                 SCOTTS MIRACLE-GRO CO  AGRICULTURAL CHEMICALS\n",
       "2210    855931  2870.0       POTASH CORP OF SASKATCHEWAN INC  AGRICULTURAL CHEMICALS\n",
       "2220    857949  2870.0                       ENLIGHTIFY INC.  AGRICULTURAL CHEMICALS\n",
       "2338    868725  2870.0                         RENTECH, INC.  AGRICULTURAL CHEMICALS\n",
       "2403    875729  2870.0   BION ENVIRONMENTAL TECHNOLOGIES INC  AGRICULTURAL CHEMICALS\n",
       "2439    879575  2870.0             TERRA NITROGEN CO L P /DE  AGRICULTURAL CHEMICALS\n",
       "3217    941221  2870.0                  ISRAEL CHEMICALS LTD  AGRICULTURAL CHEMICALS\n",
       "3224    943003  2870.0                            AGRIUM INC  AGRICULTURAL CHEMICALS\n",
       "3742   1031896  2870.0        AMERICAN SOIL TECHNOLOGIES INC  AGRICULTURAL CHEMICALS\n",
       "4870   1110783  2870.0                     MONSANTO CO /NEW/  AGRICULTURAL CHEMICALS\n",
       "5343   1159275  2870.0     KIWA BIO-TECH PRODUCTS GROUP CORP  AGRICULTURAL CHEMICALS\n",
       "5587   1178552  2870.0                  BODISEN BIOTECH, INC  AGRICULTURAL CHEMICALS\n",
       "6036   1285785  2870.0                             MOSAIC CO  AGRICULTURAL CHEMICALS\n",
       "6477   1324404  2870.0          CF INDUSTRIES HOLDINGS, INC.  AGRICULTURAL CHEMICALS\n",
       "7299   1378270  2870.0             CHINA AGRI-BUSINESS, INC.  AGRICULTURAL CHEMICALS\n",
       "7670   1398551  2870.0            YONGYE INTERNATIONAL, INC.  AGRICULTURAL CHEMICALS\n",
       "8061   1417624  2870.0  CHANGDA INTERNATIONAL HOLDINGS, INC.  AGRICULTURAL CHEMICALS\n",
       "8254   1425292  2870.0                      CVR PARTNERS, LP  AGRICULTURAL CHEMICALS\n",
       "8436   1435224  2870.0                         VEGALAB, INC.  AGRICULTURAL CHEMICALS\n",
       "8566   1441693  2870.0           MARRONE BIO INNOVATIONS INC  AGRICULTURAL CHEMICALS\n",
       "9943   1517248  2870.0             ORGANIC PLANT HEALTH INC.  AGRICULTURAL CHEMICALS\n",
       "10103  1525998  2870.0       RENTECH NITROGEN PARTNERS, L.P.  AGRICULTURAL CHEMICALS\n",
       "10848  1571804  2870.0                   VIBE WIRELESS CORP.  AGRICULTURAL CHEMICALS\n",
       "10889  1574565  2870.0                          EVOGENE LTD.  AGRICULTURAL CHEMICALS\n",
       "10924  1575858  2870.0                         PUREBASE CORP  AGRICULTURAL CHEMICALS\n",
       "11209  1592016  2870.0           BOULEVARD ACQUISITION CORP.  AGRICULTURAL CHEMICALS\n",
       "11801  1629665  2870.0                MULIANG AGRITECH, INC.  AGRICULTURAL CHEMICALS\n",
       "12419  1680378  2870.0                       SENESTECH, INC.  AGRICULTURAL CHEMICALS\n",
       "12708  1705843  2870.0                          CALYXT, INC.  AGRICULTURAL CHEMICALS\n",
       "12959  1725964  2870.0                          NUTRIEN LTD.  AGRICULTURAL CHEMICALS\n",
       "13380  1769484  2870.0         BIOCERES CROP SOLUTIONS CORP.  AGRICULTURAL CHEMICALS\n",
       "13574  1789192  2870.0                      SAVE FOODS, INC.  AGRICULTURAL CHEMICALS\n",
       "13618  1794276  2870.0  YCQH AGRICULTURAL TECHNOLOGY CO. LTD  AGRICULTURAL CHEMICALS\n",
       "13650  1797762  2870.0               KENONGWO GROUP US, INC.  AGRICULTURAL CHEMICALS"
      ]
     },
     "execution_count": 106,
     "metadata": {},
     "output_type": "execute_result"
    }
   ],
   "source": [
    "sic_to_cik_table = pd.read_csv(root.parent / 'knowledge/sic_latest_per_company.csv')\n",
    "chosen_sic = 2870  # Example SIC code for \"Agricultural Chemicals\"\n",
    "# Get companies in the chosen sector\n",
    "sector_companies = sic_to_cik_table[sic_to_cik_table['sic'] == chosen_sic]\n",
    "sector_companies"
   ]
  },
  {
   "cell_type": "code",
   "execution_count": null,
   "metadata": {},
   "outputs": [],
   "source": []
  },
  {
   "cell_type": "markdown",
   "metadata": {},
   "source": [
    "# load stmnts of chosen companies"
   ]
  },
  {
   "cell_type": "markdown",
   "metadata": {},
   "source": [
    "## Summary and Conclusions\n",
    "\n",
    "This notebook demonstrates how to:\n",
    "\n",
    "1. **Find a company**: Use `IndexSearch.find_company_by_name()` to locate companies\n",
    "2. **Extract industry information**: Get SIC codes from submission data in 10-K reports\n",
    "3. **Classify industry sector**: Map SIC codes to industry categories\n",
    "4. **Find sector peers**: Search for companies with similar business descriptions or SIC codes\n",
    "5. **Prepare for comparative analysis**: Collect recent financial reports for sector companies\n",
    "\n",
    "### Key Findings:\n",
    "- The Mosaic Company's industry classification based on SEC data\n",
    "- List of peer companies in the same sector\n",
    "- Framework for conducting sector-wide financial analysis\n",
    "\n",
    "### Next Steps for Sector Analysis:\n",
    "1. Use `MultiReportCollector` to gather financial data from all sector companies\n",
    "2. Apply standardizers to make data comparable across companies\n",
    "3. Analyze key metrics like revenue, profitability, and asset efficiency\n",
    "4. Identify industry trends and company relative performance"
   ]
  }
 ],
 "metadata": {
  "kernelspec": {
   "display_name": "secfsd",
   "language": "python",
   "name": "python3"
  },
  "language_info": {
   "codemirror_mode": {
    "name": "ipython",
    "version": 3
   },
   "file_extension": ".py",
   "mimetype": "text/x-python",
   "name": "python",
   "nbconvert_exporter": "python",
   "pygments_lexer": "ipython3",
   "version": "3.11.13"
  }
 },
 "nbformat": 4,
 "nbformat_minor": 4
}
