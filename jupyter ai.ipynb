{
 "cells": [
  {
   "cell_type": "markdown",
   "id": "0f9ece8f-a87a-4440-baf4-3c4eca326df5",
   "metadata": {},
   "source": [
    "# chat set up:\n",
    "\n",
    "\n",
    "in chat settings choose a provider for models. i use openrouter. \n",
    "\n",
    "then select a model id. i used qwen/qwq-32b, and i had to add the base url for it to work: https://openrouter.ai/api/v1\n",
    "\n",
    "open router key is in the env var: OPENROUTER_API_KEY. `api_key=os.getenv(\"OPENROUTER_API_KEY\")`.\n",
    "\n",
    "\n",
    "need to set up a model for rag on my fiels, by choosing a embedding model. "
   ]
  },
  {
   "cell_type": "markdown",
   "id": "8fe91e2f-ef3d-4168-a004-cc672a6db310",
   "metadata": {},
   "source": [
    "# notebook commands"
   ]
  },
  {
   "cell_type": "code",
   "execution_count": 1,
   "id": "fdebccfe-9c69-480e-bfb2-64045d8d8cd6",
   "metadata": {},
   "outputs": [],
   "source": [
    "%load_ext jupyter_ai\n",
    "%load_ext jupyter_ai_magics"
   ]
  },
  {
   "cell_type": "markdown",
   "id": "8f7db160-d67a-4e7d-8180-d66f59705c53",
   "metadata": {},
   "source": [
    "to prompt ai, use the cell magic:"
   ]
  },
  {
   "cell_type": "code",
   "execution_count": 3,
   "id": "4dac3abe-f933-4210-8eb7-78b9bb663a63",
   "metadata": {},
   "outputs": [
    {
     "name": "stderr",
     "output_type": "stream",
     "text": [
      "C:\\Users\\Jesse\\miniforge3\\lib\\site-packages\\pydantic\\main.py:426: UserWarning: Pydantic serializer warnings:\n",
      "  Expected `ChoiceLogprobs` but got `float` with value `-1.7881393e-06` - serialized value may not be as expected\n",
      "  return self.__pydantic_serializer__.to_python(\n"
     ]
    },
    {
     "data": {
      "text/markdown": [
       "A Large Language Model (LLM) is a type of artificial intelligence that uses large amounts of data to learn language patterns and produce responses that are designed to sound natural and understandable. These models can respond to a wide range of questions, generate text, and solve problems. They are used in various applications, including chatbots, content suggestion, and question-answering systems."
      ],
      "text/plain": [
       "<IPython.core.display.Markdown object>"
      ]
     },
     "execution_count": 3,
     "metadata": {
      "text/markdown": {
       "jupyter_ai": {
        "model_id": "deepseek/deepseek-r1-distill-qwen-1.5b",
        "provider_id": "openrouter"
       }
      }
     },
     "output_type": "execute_result"
    }
   ],
   "source": [
    "%%ai openrouter:deepseek/deepseek-r1-distill-qwen-1.5b\n",
    "what llm are you?"
   ]
  },
  {
   "cell_type": "markdown",
   "id": "de274a80-aee0-496e-8013-ae147e3eda9f",
   "metadata": {},
   "source": [
    "to get code add the format `-f code`:"
   ]
  },
  {
   "cell_type": "code",
   "execution_count": 4,
   "id": "b92f52d8-1f04-400e-956f-5f5bf07298b1",
   "metadata": {},
   "outputs": [
    {
     "name": "stderr",
     "output_type": "stream",
     "text": [
      "C:\\Users\\Jesse\\miniforge3\\lib\\site-packages\\pydantic\\main.py:426: UserWarning: Pydantic serializer warnings:\n",
      "  Expected `ChoiceLogprobs` but got `float` with value `-1.7881393e-06` - serialized value may not be as expected\n",
      "  return self.__pydantic_serializer__.to_python(\n"
     ]
    },
    {
     "data": {
      "text/html": [
       "AI generated code inserted below &#11015;&#65039;"
      ],
      "text/plain": [
       "<IPython.core.display.HTML object>"
      ]
     },
     "execution_count": 4,
     "metadata": {
      "text/html": {
       "jupyter_ai": {
        "model_id": "deepseek/deepseek-r1-distill-qwen-1.5b",
        "provider_id": "openrouter"
       }
      }
     },
     "output_type": "execute_result"
    }
   ],
   "source": [
    "%%ai openrouter:deepseek/deepseek-r1-distill-qwen-1.5b -f code\n",
    "\n",
    "write a basic function to print hello world"
   ]
  },
  {
   "cell_type": "code",
   "execution_count": 6,
   "id": "7184fb3e-f541-4fcd-b0e7-b2dd78a353ec",
   "metadata": {},
   "outputs": [],
   "source": [
    "\n",
    "def print_hello():\n",
    "    print(\"Hello World\")"
   ]
  },
  {
   "cell_type": "markdown",
   "id": "005f69d0-20d9-4d26-b51d-c624e3836eaf",
   "metadata": {},
   "source": []
  },
  {
   "cell_type": "markdown",
   "id": "649d12d1-bae3-47ca-a52a-e446b2929940",
   "metadata": {},
   "source": [
    "to debug, can pass the eoor to a llm:"
   ]
  },
  {
   "cell_type": "code",
   "execution_count": 12,
   "id": "d3e55770-43a8-4757-b617-4c012a70f086",
   "metadata": {},
   "outputs": [
    {
     "ename": "SyntaxError",
     "evalue": "unterminated string literal (detected at line 2) (3468341851.py, line 2)",
     "output_type": "error",
     "traceback": [
      "\u001b[1;36m  Cell \u001b[1;32mIn[12], line 2\u001b[1;36m\u001b[0m\n\u001b[1;33m    print(\"Hello World)\u001b[0m\n\u001b[1;37m          ^\u001b[0m\n\u001b[1;31mSyntaxError\u001b[0m\u001b[1;31m:\u001b[0m unterminated string literal (detected at line 2)\n"
     ]
    }
   ],
   "source": [
    "\n",
    "def print_hello():\n",
    "    print(\"Hello World)"
   ]
  },
  {
   "cell_type": "code",
   "execution_count": 13,
   "id": "3104bd8c-a871-4e9a-b251-8589bc20fd21",
   "metadata": {},
   "outputs": [
    {
     "data": {
      "text/markdown": [
       "```markdown\n",
       "# Error Explanation: SyntaxError: unterminated string literal (detected at line 2)\n",
       "\n",
       "## Cause\n",
       "- The error occurs **because the string literal inside `print(\"Hello World)` is missing a closing `\"`** (double quotation mark).\n",
       "- In Python, strings must be enclosed in **matching quotes** (e.g., `\"...\"` or `'...'`).\n",
       "\n",
       "## Line 2 Analysis\n",
       "- **Incorrect line:** `print(\"Hello World)`\n",
       "  - The string starts with `\"` but ends without a matching `\"` before the closing `)` of `print()`.\n",
       "  - The caret (`^`) points to the line's start position because the interpreter detects the lack of termination at the **beginning of the string**.\n",
       "\n",
       "## Solution\n",
       "- **Fix:** Add the missing closing `\"` before the `)`.\n",
       "  ```python\n",
       "  print(\"Hello World\")\n",
       "  ```\n",
       "\n",
       "## Key Points\n",
       "- Strings must have **matching opening and closing quotes** (`\"` or `'`).\n",
       "- Unterminated strings confuse the interpreter, leading to syntax errors.\n",
       "```"
      ],
      "text/plain": [
       "<IPython.core.display.Markdown object>"
      ]
     },
     "execution_count": 13,
     "metadata": {
      "text/markdown": {
       "jupyter_ai": {
        "model_id": "qwen/qwq-32b",
        "provider_id": "openrouter"
       }
      }
     },
     "output_type": "execute_result"
    }
   ],
   "source": [
    "%ai error openrouter:qwen/qwq-32b"
   ]
  },
  {
   "cell_type": "markdown",
   "id": "5d182c43-2228-4278-a299-fb294720714a",
   "metadata": {},
   "source": [
    "and to fix, can pass a cell as context to a llm using {In[cell number]}"
   ]
  },
  {
   "cell_type": "code",
   "execution_count": 16,
   "id": "b2562506-62f5-49ae-97dd-9cc9416c30ac",
   "metadata": {},
   "outputs": [
    {
     "data": {
      "text/html": [
       "AI generated code inserted below &#11015;&#65039;"
      ],
      "text/plain": [
       "<IPython.core.display.HTML object>"
      ]
     },
     "execution_count": 16,
     "metadata": {
      "text/html": {
       "jupyter_ai": {
        "model_id": "qwen/qwq-32b",
        "provider_id": "openrouter"
       }
      }
     },
     "output_type": "execute_result"
    }
   ],
   "source": [
    "%%ai openrouter:qwen/qwq-32b -f code\n",
    "\n",
    "rewrite the following code to avoid error:{In[12]}"
   ]
  },
  {
   "cell_type": "code",
   "execution_count": null,
   "id": "dc00a53b-57f3-4535-b051-8767ec2b52cb",
   "metadata": {},
   "outputs": [],
   "source": [
    "def print_hello():\n",
    "    print(\"Hello World\")"
   ]
  },
  {
   "cell_type": "markdown",
   "id": "be7ecab5-c192-4427-bfab-2a1e678584c7",
   "metadata": {},
   "source": [
    "when chatting, can include contents of cell byy selecting it an dthen using the dropdown in the chat next to send"
   ]
  },
  {
   "cell_type": "markdown",
   "id": "1850f269-06dd-4dc5-b9ca-15b05b638d9e",
   "metadata": {},
   "source": [
    "# learn\n",
    "\n",
    "create vector db of your files by providing directory, eg: `/learn edgar_api/knowledge`. \n",
    "\n",
    "formats accepted:\n",
    "\n",
    "\n",
    ".py\n",
    "\n",
    ".md\n",
    "\n",
    ".R\n",
    "\n",
    ".Rmd\n",
    "\n",
    ".jl\n",
    "\n",
    ".sh\n",
    "\n",
    ".ipynb\n",
    "\n",
    ".js\n",
    "\n",
    ".ts\n",
    "\n",
    ".jsx\n",
    "\n",
    ".tsx\n",
    "\n",
    ".txt\n",
    "\n",
    ".html\n",
    "\n",
    ".pdf\n",
    "\n",
    ".tex\n",
    "\n",
    "\n",
    "using gpt4all runs locally (must install), while the others require an api key. "
   ]
  },
  {
   "cell_type": "markdown",
   "id": "f5a18ca8-4c55-40b6-a83c-2a312b4754ee",
   "metadata": {},
   "source": [
    "for this i had to create an azure openai resource - essentially i kind of container where i deploy openai models to use.\n",
    "i deployed embedding large. \n",
    "\n",
    "https://ai.azure.com/resource/deployments/%2Fsubscriptions%2Fb5a8868d-579a-42cd-b5c0-601309fb385a%2FresourceGroups%2FjesseVectorDB%2Fproviders%2FMicrosoft.CognitiveServices%2Faccounts%2FJesseVectorDB%2Fdeployments%2Ftext-embedding-3-large?wsid=/subscriptions/b5a8868d-579a-42cd-b5c0-601309fb385a/resourceGroups/jesseVectorDB/providers/Microsoft.CognitiveServices/accounts/JesseVectorDB&tid=62a45d85-573d-466b-82b2-6eab2d7e5e97"
   ]
  },
  {
   "cell_type": "code",
   "execution_count": null,
   "id": "364e8369-b30e-47b2-943d-8ff6a6d34f6d",
   "metadata": {},
   "outputs": [],
   "source": []
  },
  {
   "cell_type": "code",
   "execution_count": null,
   "id": "9e110d66-6241-43af-84d3-ae3a1b246bff",
   "metadata": {},
   "outputs": [],
   "source": []
  }
 ],
 "metadata": {
  "kernelspec": {
   "display_name": "Python (base)",
   "language": "python",
   "name": "python3"
  },
  "language_info": {
   "codemirror_mode": {
    "name": "ipython",
    "version": 3
   },
   "file_extension": ".py",
   "mimetype": "text/x-python",
   "name": "python",
   "nbconvert_exporter": "python",
   "pygments_lexer": "ipython3",
   "version": "3.10.14"
  }
 },
 "nbformat": 4,
 "nbformat_minor": 5
}
